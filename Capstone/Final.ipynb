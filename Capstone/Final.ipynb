{
 "cells": [
  {
   "cell_type": "markdown",
   "metadata": {},
   "source": [
    "# Steam Game Recommender\n",
    "#### Capstone Project, Machine Learning Engineer Nanodegree"
   ]
  },
  {
   "cell_type": "markdown",
   "metadata": {},
   "source": [
    "## Project Overview\n",
    "Steam is a gaming platform where multiple games on different platforms (including PC, Mac, and Linux) are sold to players. It also has a social component including streaming and community forums. Many video game providers also hold frequent discounts on the offered games. Users can also see recommendations based on the games they have played already.\n",
    "\n",
    "Improving the recommendations shown to a user can increase user engagement and increase revenue of the game producer (and Steam too). Given the huge variety of games available across various platforms, targeting the correct user who is likely to buy the game, conduct micro-transactions, and/or recommend the game to his friends is a very lucrative problem for game producers. Since Steam receives a cut on games sold through Steam, Valve also has an interest in properly recommending games."
   ]
  },
  {
   "cell_type": "markdown",
   "metadata": {},
   "source": [
    "## Problem Statement\n",
    "\n",
    "Create a recommendation system which can predict user engagement with games (the scoring function which is defined below) given playtime data about the games and the user. Top-5 games will be recommended to the user along with the predicted score (defined above). This score can be used by companies to decide revenues. Eg. If a user plays a game (eg Candy Crush) very much as compared to other players, similar long-term games with micro-transactions can be suggested to him. On the other hand, if a user plays a lot of different games but doesn’t spend a lot of time on any of them, another variety of games with one-time prices can be shown to him. \n"
   ]
  },
  {
   "cell_type": "markdown",
   "metadata": {},
   "source": [
    "## Scoring Function\n",
    "\n",
    "A scoring function will be defined to incorporate the wide range in hours played across different users and different games. This will be an attempt to reduce skew and normalise the given data.\n",
    "\n",
    "$ score = personal \\ ratio * normalised \\ hours $\n",
    "\n",
    "Example\n",
    "If user XYZ has played game A for 20 hours and he has totally played 100 hours on Steam:\n",
    "\n",
    "$ personal \\ ratio = \\frac{20}{100} = 0.2 $\n",
    "\n",
    "But what if game A is a singleplayer campaign which only lasts around 10 hours? Then user XYZ seems to like game A a lot compared to other players. It is assumed that the players playing game A are normally distributed.\n",
    "If game A is distributed with a mean of 10 hours and a standard deviation of 5 hours, \n",
    "$ normalised \\ hours = \\frac{20-10}{5} = 2 $\n",
    "\n",
    "$ score = 0.2 * 2 = 0.4 $"
   ]
  },
  {
   "cell_type": "markdown",
   "metadata": {},
   "source": [
    "## Datasets\n",
    "- [Steam Video Games dataset](https://www.kaggle.com/tamber/steam-video-games)\n",
    "\n",
    "This dataset provided by [Tamber](https://tamber.com/) contains user playtime data for different Steam games, ie the hours a particular user has played a particular game.\n",
    "\n",
    "To quote the content description from the Kaggle page - “This dataset is a list of user behaviors, with columns: user-id, game-title, behavior-name, value. The behaviors included are 'purchase' and 'play'. The value indicates the degree to which the behavior was performed - in the case of 'purchase' the value is always 1, and in the case of 'play' the value represents the number of hours the user has played the game.”\n",
    "\n",
    "- [Internet Game Database API](https://www.igdb.com/api)\n",
    "\n",
    "Instead of using DBPedia as planned in the original capstone proposal, the Internet Game Database API was used since it contained detailed game information and had a good API as compared to DBPedia which would have heavy SPARQL queries.\n"
   ]
  },
  {
   "cell_type": "markdown",
   "metadata": {},
   "source": [
    "## Evaluation Metrics\n",
    "Instead of using “Precision at N” as used by [Kevin Wong](http://www.nextvideogame.com/methodology.html#evaluation), an RMSE(Root Mean Squared Error) score will be used since the predicted score is more important in this case than just predicting whether the game is played or not. Eg. Suggesting “Candy Crush” to a player who plays such micro-transaction games for a long time (and pays for the in game boosts) will generate more revenue than suggesting a game which has a small one time price. \n"
   ]
  },
  {
   "cell_type": "markdown",
   "metadata": {},
   "source": [
    "## Proposed Solution\n",
    "\n",
    "Collaborative filtering (explained below) will be used to fill in the missing user-game score matrix. The top 5 games (arranged in order of descending scores) will then be chosen and shown to the user as recommendations. Matrix factorization will be used to characterise the latent features between users and games. Since game data is also available (from IGDB) factorisation machine models will also be used to improve performance.\n",
    "\n",
    "Since explicit data is available (in the form of the defined scores), a [factorisation Recommender](https://turi.com/products/create/docs/generated/graphlab.recommender.factorization_recommender.create.html) will be used as suggested [here](https://timchen1.gitbooks.io/graphlab/content/recommender/choosing-a-model.html). Note : An item similarity recommender will not be used since it can not incorporate user and game specific information (as noted in the relevant documentation Notes section). Parameter tuning will then be done to improve performance. \n",
    "\n",
    "### Collaborative Filtering\n",
    "| Player | Civ 5 | Empire TW | EU IV | CS GO | CoD MW2 | Candy Crush | \n",
    "| -- | -- | -- | -- | -- | -- | -- |\n",
    "| A | 5 | 4 | ?? | ?? | 1 | ?? |\n",
    "| B | 4 | 5 | 5 | 1 | 1 | ?? |\n",
    "| C | 2 | 1 | 3 | 5 | 4 | ?? |\n",
    "| D | ?? | ?? | ?? | ?? | ?? | 5 |\n",
    "\n",
    "| Genre | Game Code | Full Form | \n",
    "| -- | -- | -- |\n",
    "| Strategy | Civ 5 | Sid Meier’s Civilisation 5 |\n",
    "| Strategy | Empire TW | Empire Total War |\n",
    "| Strategy | EU IV | Europa Universalis IV |\n",
    "| First-player Shooter | CS GO | Counter Strike GO |\n",
    "| First-player Shooter | CoD MW2 |  Call of Duty : Modern Warfare 2 |\n",
    "| Mobile | Candy Crush | Candy Crush |\n",
    "Suppose we want to predict games for player A based on the above table. The scores range from 1-5 (with 5 being the highest) and a '??' denotes that the player hasn't played the game.\n",
    "\n",
    "Player A can have roughly 3 kinds of correlations with other players:\n",
    "1. Positive Correlation - Player A and player B have high scores for strategy games and low scores for first player shooters. Therefore based on player B, we’ll suggest EU IV to A but we won’t suggest CS Go.\n",
    "\n",
    "2. Negative Correlation - Player A and player C have the opposite tastes. C likes first player shooters but doesn’t like strategy games. It is the opposite with player A. Therefore based on player C, we won’t suggest the games C likes to player A.\n",
    "\n",
    "3. Zero Correlation - Player D only likes mobile games and has no ratings about other games. Therefore, player D’s ratings won’t be used to suggest any games to A.\n",
    "\n",
    "This is called collaborative filtering where the system finds users with similar tastes as the target user and then recommends items which those users have used (but the target user hasn’t). The correlation coefficients for different players can be input to learning algorithms to create predictions for player A.\n",
    "\n",
    "#### Adding genre information\n",
    "It is likely that a player who plays strategy games like Sid Meier's Civilization V will also be interested in playing Empire Total War. Similarly, a player who plays multiplayer first-person shooters like Counter-Strike Global Offensive a lot may also want to play Call of Duty Modern Warfare 2. So the playtime data available is supplemented by adding genre information from IGDB. \n"
   ]
  },
  {
   "cell_type": "markdown",
   "metadata": {},
   "source": [
    "## Benchmark\n",
    "There are 40 million player-game interactions possible in this dataset. But only 70,000 interactions are present in the entire dataset (even before splitting into train-CV-test). Due to this sparsity (0.17% filled entries), it is likely that a simpler model may perform better than an advanced model. As a benchmark, a simple popularity recommender will be used which will just use the average of the scores as the output. It is not tailored to individuals and won’t use the genre data.\n",
    "\n",
    "\n",
    "$ 3,500 \\ games * 11,350 \\ players = 40,860,000 \\ interactions $"
   ]
  },
  {
   "cell_type": "markdown",
   "metadata": {},
   "source": [
    "## Data Preprocessing\n",
    "\n",
    "The dataset provided by Tamber had 200,000 interactions out of which only 70,489 interactions contained playtime data. Out of these 70,489 interactions, there were duplicate entries for 12 player-games. The duplicate entries were removed and only the last occurrences were kept.\n"
   ]
  },
  {
   "cell_type": "code",
   "execution_count": 1,
   "metadata": {
    "collapsed": true
   },
   "outputs": [],
   "source": [
    "import pandas as pd"
   ]
  },
  {
   "cell_type": "code",
   "execution_count": 2,
   "metadata": {
    "collapsed": false
   },
   "outputs": [
    {
     "data": {
      "text/html": [
       "<div>\n",
       "<table border=\"1\" class=\"dataframe\">\n",
       "  <thead>\n",
       "    <tr style=\"text-align: right;\">\n",
       "      <th></th>\n",
       "      <th>user-id</th>\n",
       "      <th>game-title</th>\n",
       "      <th>behavior-name</th>\n",
       "      <th>hours</th>\n",
       "      <th>null</th>\n",
       "    </tr>\n",
       "  </thead>\n",
       "  <tbody>\n",
       "    <tr>\n",
       "      <th>0</th>\n",
       "      <td>151603712</td>\n",
       "      <td>The Elder Scrolls V Skyrim</td>\n",
       "      <td>purchase</td>\n",
       "      <td>1.0</td>\n",
       "      <td>0</td>\n",
       "    </tr>\n",
       "    <tr>\n",
       "      <th>1</th>\n",
       "      <td>151603712</td>\n",
       "      <td>The Elder Scrolls V Skyrim</td>\n",
       "      <td>play</td>\n",
       "      <td>273.0</td>\n",
       "      <td>0</td>\n",
       "    </tr>\n",
       "    <tr>\n",
       "      <th>2</th>\n",
       "      <td>151603712</td>\n",
       "      <td>Fallout 4</td>\n",
       "      <td>purchase</td>\n",
       "      <td>1.0</td>\n",
       "      <td>0</td>\n",
       "    </tr>\n",
       "    <tr>\n",
       "      <th>3</th>\n",
       "      <td>151603712</td>\n",
       "      <td>Fallout 4</td>\n",
       "      <td>play</td>\n",
       "      <td>87.0</td>\n",
       "      <td>0</td>\n",
       "    </tr>\n",
       "    <tr>\n",
       "      <th>4</th>\n",
       "      <td>151603712</td>\n",
       "      <td>Spore</td>\n",
       "      <td>purchase</td>\n",
       "      <td>1.0</td>\n",
       "      <td>0</td>\n",
       "    </tr>\n",
       "  </tbody>\n",
       "</table>\n",
       "</div>"
      ],
      "text/plain": [
       "     user-id                  game-title behavior-name  hours  null\n",
       "0  151603712  The Elder Scrolls V Skyrim      purchase    1.0     0\n",
       "1  151603712  The Elder Scrolls V Skyrim          play  273.0     0\n",
       "2  151603712                   Fallout 4      purchase    1.0     0\n",
       "3  151603712                   Fallout 4          play   87.0     0\n",
       "4  151603712                       Spore      purchase    1.0     0"
      ]
     },
     "execution_count": 2,
     "metadata": {},
     "output_type": "execute_result"
    }
   ],
   "source": [
    "rawdata = pd.read_csv('data/steam-200k.csv',header=None,\n",
    "                      names=['user-id','game-title','behavior-name','hours','null'])\n",
    "rawdata[:5]"
   ]
  },
  {
   "cell_type": "markdown",
   "metadata": {},
   "source": [
    "This dataset is a list of user behaviors, with columns: user-id, game-title, behavior-name, hours and null. The behaviors included are 'purchase' and 'play'. The value in the 'hours' column indicates the degree to which the behavior was performed - in the case of 'purchase' the value is always 1, and in the case of 'play' the value represents the number of hours the user has played the game.\n",
    "\n",
    "Since only playtime data is required, the rows which have the 'purchase' behavior are removed."
   ]
  },
  {
   "cell_type": "code",
   "execution_count": 3,
   "metadata": {
    "collapsed": false
   },
   "outputs": [
    {
     "name": "stderr",
     "output_type": "stream",
     "text": [
      "/home/rahulhp/anaconda2/envs/gl-env/lib/python2.7/site-packages/ipykernel/__main__.py:2: SettingWithCopyWarning: \n",
      "A value is trying to be set on a copy of a slice from a DataFrame\n",
      "\n",
      "See the caveats in the documentation: http://pandas.pydata.org/pandas-docs/stable/indexing.html#indexing-view-versus-copy\n",
      "  from ipykernel import kernelapp as app\n"
     ]
    },
    {
     "data": {
      "text/html": [
       "<div>\n",
       "<table border=\"1\" class=\"dataframe\">\n",
       "  <thead>\n",
       "    <tr style=\"text-align: right;\">\n",
       "      <th></th>\n",
       "      <th>user-id</th>\n",
       "      <th>game-title</th>\n",
       "      <th>hours</th>\n",
       "    </tr>\n",
       "  </thead>\n",
       "  <tbody>\n",
       "    <tr>\n",
       "      <th>1</th>\n",
       "      <td>151603712</td>\n",
       "      <td>The Elder Scrolls V Skyrim</td>\n",
       "      <td>273.0</td>\n",
       "    </tr>\n",
       "    <tr>\n",
       "      <th>3</th>\n",
       "      <td>151603712</td>\n",
       "      <td>Fallout 4</td>\n",
       "      <td>87.0</td>\n",
       "    </tr>\n",
       "    <tr>\n",
       "      <th>5</th>\n",
       "      <td>151603712</td>\n",
       "      <td>Spore</td>\n",
       "      <td>14.9</td>\n",
       "    </tr>\n",
       "    <tr>\n",
       "      <th>7</th>\n",
       "      <td>151603712</td>\n",
       "      <td>Fallout New Vegas</td>\n",
       "      <td>12.1</td>\n",
       "    </tr>\n",
       "    <tr>\n",
       "      <th>9</th>\n",
       "      <td>151603712</td>\n",
       "      <td>Left 4 Dead 2</td>\n",
       "      <td>8.9</td>\n",
       "    </tr>\n",
       "  </tbody>\n",
       "</table>\n",
       "</div>"
      ],
      "text/plain": [
       "     user-id                  game-title  hours\n",
       "1  151603712  The Elder Scrolls V Skyrim  273.0\n",
       "3  151603712                   Fallout 4   87.0\n",
       "5  151603712                       Spore   14.9\n",
       "7  151603712           Fallout New Vegas   12.1\n",
       "9  151603712               Left 4 Dead 2    8.9"
      ]
     },
     "execution_count": 3,
     "metadata": {},
     "output_type": "execute_result"
    }
   ],
   "source": [
    "playtimedata=rawdata[rawdata['behavior-name']=='play']\n",
    "playtimedata.drop(['behavior-name','null'],axis=1,inplace=True)\n",
    "playtimedata[:5]"
   ]
  },
  {
   "cell_type": "markdown",
   "metadata": {},
   "source": [
    "### Removing duplicate rows\n",
    "In the dataset, 12 user-game interactions have 2 values."
   ]
  },
  {
   "cell_type": "code",
   "execution_count": 4,
   "metadata": {
    "collapsed": false
   },
   "outputs": [
    {
     "data": {
      "text/html": [
       "<div>\n",
       "<table border=\"1\" class=\"dataframe\">\n",
       "  <thead>\n",
       "    <tr style=\"text-align: right;\">\n",
       "      <th></th>\n",
       "      <th>user-id</th>\n",
       "      <th>game-title</th>\n",
       "      <th>hours</th>\n",
       "    </tr>\n",
       "  </thead>\n",
       "  <tbody>\n",
       "    <tr>\n",
       "      <th>8827</th>\n",
       "      <td>28472068</td>\n",
       "      <td>Grand Theft Auto III</td>\n",
       "      <td>2</td>\n",
       "    </tr>\n",
       "    <tr>\n",
       "      <th>8829</th>\n",
       "      <td>28472068</td>\n",
       "      <td>Grand Theft Auto San Andreas</td>\n",
       "      <td>2</td>\n",
       "    </tr>\n",
       "    <tr>\n",
       "      <th>8830</th>\n",
       "      <td>28472068</td>\n",
       "      <td>Grand Theft Auto Vice City</td>\n",
       "      <td>2</td>\n",
       "    </tr>\n",
       "    <tr>\n",
       "      <th>11066</th>\n",
       "      <td>33865373</td>\n",
       "      <td>Sid Meier's Civilization IV</td>\n",
       "      <td>2</td>\n",
       "    </tr>\n",
       "    <tr>\n",
       "      <th>18414</th>\n",
       "      <td>50769696</td>\n",
       "      <td>Grand Theft Auto San Andreas</td>\n",
       "      <td>2</td>\n",
       "    </tr>\n",
       "    <tr>\n",
       "      <th>22653</th>\n",
       "      <td>59925638</td>\n",
       "      <td>Tom Clancy's H.A.W.X. 2</td>\n",
       "      <td>2</td>\n",
       "    </tr>\n",
       "    <tr>\n",
       "      <th>27873</th>\n",
       "      <td>71411882</td>\n",
       "      <td>Grand Theft Auto III</td>\n",
       "      <td>2</td>\n",
       "    </tr>\n",
       "    <tr>\n",
       "      <th>27944</th>\n",
       "      <td>71510748</td>\n",
       "      <td>Grand Theft Auto San Andreas</td>\n",
       "      <td>2</td>\n",
       "    </tr>\n",
       "    <tr>\n",
       "      <th>43939</th>\n",
       "      <td>118664413</td>\n",
       "      <td>Grand Theft Auto San Andreas</td>\n",
       "      <td>2</td>\n",
       "    </tr>\n",
       "    <tr>\n",
       "      <th>51079</th>\n",
       "      <td>148362155</td>\n",
       "      <td>Grand Theft Auto San Andreas</td>\n",
       "      <td>2</td>\n",
       "    </tr>\n",
       "    <tr>\n",
       "      <th>58054</th>\n",
       "      <td>176261926</td>\n",
       "      <td>Sid Meier's Civilization IV</td>\n",
       "      <td>2</td>\n",
       "    </tr>\n",
       "    <tr>\n",
       "      <th>58055</th>\n",
       "      <td>176261926</td>\n",
       "      <td>Sid Meier's Civilization IV Beyond the Sword</td>\n",
       "      <td>2</td>\n",
       "    </tr>\n",
       "  </tbody>\n",
       "</table>\n",
       "</div>"
      ],
      "text/plain": [
       "         user-id                                    game-title  hours\n",
       "8827    28472068                          Grand Theft Auto III      2\n",
       "8829    28472068                  Grand Theft Auto San Andreas      2\n",
       "8830    28472068                    Grand Theft Auto Vice City      2\n",
       "11066   33865373                   Sid Meier's Civilization IV      2\n",
       "18414   50769696                  Grand Theft Auto San Andreas      2\n",
       "22653   59925638                       Tom Clancy's H.A.W.X. 2      2\n",
       "27873   71411882                          Grand Theft Auto III      2\n",
       "27944   71510748                  Grand Theft Auto San Andreas      2\n",
       "43939  118664413                  Grand Theft Auto San Andreas      2\n",
       "51079  148362155                  Grand Theft Auto San Andreas      2\n",
       "58054  176261926                   Sid Meier's Civilization IV      2\n",
       "58055  176261926  Sid Meier's Civilization IV Beyond the Sword      2"
      ]
     },
     "execution_count": 4,
     "metadata": {},
     "output_type": "execute_result"
    }
   ],
   "source": [
    "duplicates = playtimedata.groupby(['user-id','game-title']).count().reset_index()\n",
    "duplicates[duplicates['hours']>1]"
   ]
  },
  {
   "cell_type": "markdown",
   "metadata": {},
   "source": [
    "We are keeping only the last value in this case."
   ]
  },
  {
   "cell_type": "code",
   "execution_count": 5,
   "metadata": {
    "collapsed": false
   },
   "outputs": [
    {
     "name": "stderr",
     "output_type": "stream",
     "text": [
      "/home/rahulhp/anaconda2/envs/gl-env/lib/python2.7/site-packages/pandas/util/decorators.py:91: SettingWithCopyWarning: \n",
      "A value is trying to be set on a copy of a slice from a DataFrame\n",
      "\n",
      "See the caveats in the documentation: http://pandas.pydata.org/pandas-docs/stable/indexing.html#indexing-view-versus-copy\n",
      "  return func(*args, **kwargs)\n"
     ]
    }
   ],
   "source": [
    "playtimedata.drop_duplicates(subset=['user-id','game-title'],keep='last',inplace=True)"
   ]
  },
  {
   "cell_type": "markdown",
   "metadata": {},
   "source": [
    "## Adding genre and developer information"
   ]
  },
  {
   "cell_type": "markdown",
   "metadata": {},
   "source": [
    "Since there are 3600 games and the API had a rate limitation of 7000 queries per day, the following code which queries the API for genre + developer information has been commented out. The results have been stored in a pickle file for later usage. The API key has also been removed for privacy reasons. The API key can be obtained from the [Mashape website](https://market.mashape.com/igdbcom/internet-game-database)"
   ]
  },
  {
   "cell_type": "code",
   "execution_count": 6,
   "metadata": {
    "collapsed": true
   },
   "outputs": [],
   "source": [
    "import requests\n",
    "import sys\n",
    "import pickle"
   ]
  },
  {
   "cell_type": "markdown",
   "metadata": {},
   "source": [
    "This helper function was used to get the developer and genre information"
   ]
  },
  {
   "cell_type": "code",
   "execution_count": 7,
   "metadata": {
    "collapsed": true
   },
   "outputs": [],
   "source": [
    "def get_game_data(search_string):\n",
    "    API_URL = \"https://igdbcom-internet-game-database-v1.p.mashape.com/games/?\"\n",
    "    FIELDS = \"fields=name%2Cslug%2Cdevelopers%2Cgenres&limit=1&offset=0&search=\"\n",
    "    \n",
    "    search_url = API_URL + FIELDS + search_string\n",
    "    headers={\n",
    "        \"X-Mashape-Key\": \"INSERT-KEY-HERE\",\n",
    "        \"Accept\": \"application/json\"\n",
    "      }\n",
    "    try:\n",
    "        r = requests.get(search_url,headers=headers)\n",
    "        d = dict()\n",
    "        d['name'] = search_string\n",
    "        d['developers'] = r.json()[0].get(['developers'][0],0)\n",
    "        d['genres'] = r.json()[0].get(['genres'][0],0)\n",
    "        return d\n",
    "    except:\n",
    "        print \"\\tUnexpected error: \"+str(sys.exc_info()[0])\n",
    "        return None"
   ]
  },
  {
   "cell_type": "markdown",
   "metadata": {},
   "source": [
    "The below code has which called the API for the games been disabled."
   ]
  },
  {
   "cell_type": "raw",
   "metadata": {},
   "source": [
    "games = list(gamedata['game-title'])\n",
    "dictlist = []\n",
    "count=0\n",
    "for i in games:\n",
    "    print count,'\\t',i\n",
    "    d = get_game_data(i)\n",
    "    if d is not None:\n",
    "        dictlist.append(d)\n",
    "    count+=1\n",
    "pickle.dump(dictlist,open(\"gameinfo.p\",\"wb\"))"
   ]
  },
  {
   "cell_type": "code",
   "execution_count": 8,
   "metadata": {
    "collapsed": true
   },
   "outputs": [],
   "source": [
    "gameinfo = pickle.load(open(\"gameinfo.p\",\"rb\"))"
   ]
  },
  {
   "cell_type": "markdown",
   "metadata": {},
   "source": [
    "Example output from the API:"
   ]
  },
  {
   "cell_type": "code",
   "execution_count": 9,
   "metadata": {
    "collapsed": false
   },
   "outputs": [
    {
     "name": "stdout",
     "output_type": "stream",
     "text": [
      "{'genres': [12, 31], 'developers': [1243], 'name': 'The Incredible Adventures of Van Helsing III'}\n"
     ]
    }
   ],
   "source": [
    "print gameinfo[12]"
   ]
  },
  {
   "cell_type": "code",
   "execution_count": 10,
   "metadata": {
    "collapsed": false
   },
   "outputs": [
    {
     "name": "stdout",
     "output_type": "stream",
     "text": [
      "20\n"
     ]
    }
   ],
   "source": [
    "genres = set()\n",
    "for game in gameinfo:\n",
    "    if type(game['genres'])==list:\n",
    "        for i in game['genres']:\n",
    "            genres.add(i)\n",
    "print len(genres)"
   ]
  },
  {
   "cell_type": "markdown",
   "metadata": {},
   "source": [
    "There are 20 distinct genres present in the dataset."
   ]
  },
  {
   "cell_type": "code",
   "execution_count": 11,
   "metadata": {
    "collapsed": false
   },
   "outputs": [
    {
     "name": "stdout",
     "output_type": "stream",
     "text": [
      "1858\n"
     ]
    }
   ],
   "source": [
    "developers = set()\n",
    "for game in gameinfo:\n",
    "    if type(game['developers'])==list:\n",
    "        for i in game['developers']:\n",
    "            developers.add(i)\n",
    "print len(developers)"
   ]
  },
  {
   "cell_type": "markdown",
   "metadata": {},
   "source": [
    "There are 1858 distinct developers. Since there are 3600 games in the dataset, on average each developer has made 2 games. Due to the very sparse data in this field, this field has been removed from future calculations. Only the genre information will be used."
   ]
  },
  {
   "cell_type": "markdown",
   "metadata": {},
   "source": [
    "### Removing extra games from playtimedata"
   ]
  },
  {
   "cell_type": "code",
   "execution_count": 12,
   "metadata": {
    "collapsed": false
   },
   "outputs": [
    {
     "name": "stdout",
     "output_type": "stream",
     "text": [
      "3581\n"
     ]
    }
   ],
   "source": [
    "print len(gameinfo)"
   ]
  },
  {
   "cell_type": "markdown",
   "metadata": {},
   "source": [
    "Information for only 3581 games was obtained from IGDB. We'll be removing the data for the other 19 games before proceeding."
   ]
  },
  {
   "cell_type": "code",
   "execution_count": 13,
   "metadata": {
    "collapsed": false
   },
   "outputs": [
    {
     "name": "stdout",
     "output_type": "stream",
     "text": [
      "Data from these 19 games was unavailable: Batla Dethroned! Voxelized Aberoth Jumpdrive Deepworld Squirreltopia Breezeblox Cosmophony Rexaura Immune KWAAN CRYENGINE Burstfire Unium ROCKETSROCKETSROCKETS Rotieer Alganon Motorbike\n"
     ]
    }
   ],
   "source": [
    "igdbgames = set([i['name'] for i in gameinfo])\n",
    "tambergames = set(playtimedata['game-title'].unique())\n",
    "\n",
    "print 'Data from these 19 games was unavailable: ' + ' '.join(x for x in list(tambergames.difference(igdbgames)))"
   ]
  },
  {
   "cell_type": "markdown",
   "metadata": {},
   "source": [
    "A right join is used to keep only those games which occur in the IGDB dataset."
   ]
  },
  {
   "cell_type": "code",
   "execution_count": 14,
   "metadata": {
    "collapsed": true
   },
   "outputs": [],
   "source": [
    "igdbgamesDF = pd.DataFrame({'game-title':[i['name'] for i in gameinfo]})\n",
    "finalplaytimedata = pd.merge(playtimedata,igdbgamesDF,how='right')"
   ]
  },
  {
   "cell_type": "markdown",
   "metadata": {},
   "source": [
    "### Creating a game information table\n",
    "Since only the genre information is being used, basic one-hot encoding is used to create the item data table. This dataframe is used in the factorisation recommender."
   ]
  },
  {
   "cell_type": "code",
   "execution_count": 15,
   "metadata": {
    "collapsed": false
   },
   "outputs": [
    {
     "data": {
      "text/html": [
       "<div>\n",
       "<table border=\"1\" class=\"dataframe\">\n",
       "  <thead>\n",
       "    <tr style=\"text-align: right;\">\n",
       "      <th></th>\n",
       "      <th>game-title</th>\n",
       "      <th>genre_0.0</th>\n",
       "      <th>genre_2.0</th>\n",
       "      <th>genre_4.0</th>\n",
       "      <th>genre_5.0</th>\n",
       "      <th>genre_7.0</th>\n",
       "      <th>genre_8.0</th>\n",
       "      <th>genre_9.0</th>\n",
       "      <th>genre_10.0</th>\n",
       "      <th>genre_11.0</th>\n",
       "      <th>...</th>\n",
       "      <th>genre_14.0</th>\n",
       "      <th>genre_15.0</th>\n",
       "      <th>genre_16.0</th>\n",
       "      <th>genre_24.0</th>\n",
       "      <th>genre_25.0</th>\n",
       "      <th>genre_26.0</th>\n",
       "      <th>genre_30.0</th>\n",
       "      <th>genre_31.0</th>\n",
       "      <th>genre_32.0</th>\n",
       "      <th>genre_33.0</th>\n",
       "    </tr>\n",
       "  </thead>\n",
       "  <tbody>\n",
       "    <tr>\n",
       "      <th>0</th>\n",
       "      <td>10 Second Ninja</td>\n",
       "      <td>0.0</td>\n",
       "      <td>0.0</td>\n",
       "      <td>0.0</td>\n",
       "      <td>0.0</td>\n",
       "      <td>0.0</td>\n",
       "      <td>0.0</td>\n",
       "      <td>0.0</td>\n",
       "      <td>0.0</td>\n",
       "      <td>0.0</td>\n",
       "      <td>...</td>\n",
       "      <td>0.0</td>\n",
       "      <td>0.0</td>\n",
       "      <td>0.0</td>\n",
       "      <td>0.0</td>\n",
       "      <td>0.0</td>\n",
       "      <td>0.0</td>\n",
       "      <td>0.0</td>\n",
       "      <td>0.0</td>\n",
       "      <td>0.0</td>\n",
       "      <td>1.0</td>\n",
       "    </tr>\n",
       "    <tr>\n",
       "      <th>1</th>\n",
       "      <td>Toy Soldiers War Chest</td>\n",
       "      <td>0.0</td>\n",
       "      <td>0.0</td>\n",
       "      <td>0.0</td>\n",
       "      <td>1.0</td>\n",
       "      <td>0.0</td>\n",
       "      <td>0.0</td>\n",
       "      <td>0.0</td>\n",
       "      <td>0.0</td>\n",
       "      <td>0.0</td>\n",
       "      <td>...</td>\n",
       "      <td>0.0</td>\n",
       "      <td>0.0</td>\n",
       "      <td>0.0</td>\n",
       "      <td>0.0</td>\n",
       "      <td>0.0</td>\n",
       "      <td>0.0</td>\n",
       "      <td>0.0</td>\n",
       "      <td>0.0</td>\n",
       "      <td>0.0</td>\n",
       "      <td>0.0</td>\n",
       "    </tr>\n",
       "    <tr>\n",
       "      <th>2</th>\n",
       "      <td>Infestation Survivor Stories</td>\n",
       "      <td>0.0</td>\n",
       "      <td>0.0</td>\n",
       "      <td>0.0</td>\n",
       "      <td>0.0</td>\n",
       "      <td>0.0</td>\n",
       "      <td>0.0</td>\n",
       "      <td>0.0</td>\n",
       "      <td>0.0</td>\n",
       "      <td>0.0</td>\n",
       "      <td>...</td>\n",
       "      <td>0.0</td>\n",
       "      <td>0.0</td>\n",
       "      <td>0.0</td>\n",
       "      <td>0.0</td>\n",
       "      <td>0.0</td>\n",
       "      <td>0.0</td>\n",
       "      <td>0.0</td>\n",
       "      <td>1.0</td>\n",
       "      <td>0.0</td>\n",
       "      <td>0.0</td>\n",
       "    </tr>\n",
       "  </tbody>\n",
       "</table>\n",
       "<p>3 rows × 22 columns</p>\n",
       "</div>"
      ],
      "text/plain": [
       "                     game-title  genre_0.0  genre_2.0  genre_4.0  genre_5.0  \\\n",
       "0               10 Second Ninja        0.0        0.0        0.0        0.0   \n",
       "1        Toy Soldiers War Chest        0.0        0.0        0.0        1.0   \n",
       "2  Infestation Survivor Stories        0.0        0.0        0.0        0.0   \n",
       "\n",
       "   genre_7.0  genre_8.0  genre_9.0  genre_10.0  genre_11.0     ...      \\\n",
       "0        0.0        0.0        0.0         0.0         0.0     ...       \n",
       "1        0.0        0.0        0.0         0.0         0.0     ...       \n",
       "2        0.0        0.0        0.0         0.0         0.0     ...       \n",
       "\n",
       "   genre_14.0  genre_15.0  genre_16.0  genre_24.0  genre_25.0  genre_26.0  \\\n",
       "0         0.0         0.0         0.0         0.0         0.0         0.0   \n",
       "1         0.0         0.0         0.0         0.0         0.0         0.0   \n",
       "2         0.0         0.0         0.0         0.0         0.0         0.0   \n",
       "\n",
       "   genre_30.0  genre_31.0  genre_32.0  genre_33.0  \n",
       "0         0.0         0.0         0.0         1.0  \n",
       "1         0.0         0.0         0.0         0.0  \n",
       "2         0.0         1.0         0.0         0.0  \n",
       "\n",
       "[3 rows x 22 columns]"
      ]
     },
     "execution_count": 15,
     "metadata": {},
     "output_type": "execute_result"
    }
   ],
   "source": [
    "genrelist = list()\n",
    "for i in gameinfo:\n",
    "    genrelist.append({'genres':i['genres'],'game-title':i['name']})\n",
    "genreDF = pd.DataFrame(genrelist)\n",
    "\n",
    "genre_encoded = pd.get_dummies(genreDF['genres'].apply(pd.Series).stack(),prefix='genre').sum(level=0)\n",
    "\n",
    "genre_dummies = pd.concat([genreDF,genre_encoded],axis=1).drop('genres',axis=1)\n",
    "genre_dummies[:3]"
   ]
  },
  {
   "cell_type": "markdown",
   "metadata": {},
   "source": [
    "## Exploratory Data Analysis"
   ]
  },
  {
   "cell_type": "markdown",
   "metadata": {
    "collapsed": true
   },
   "source": [
    "### Player Data"
   ]
  },
  {
   "cell_type": "code",
   "execution_count": 39,
   "metadata": {
    "collapsed": false
   },
   "outputs": [
    {
     "name": "stdout",
     "output_type": "stream",
     "text": [
      "11350\n"
     ]
    },
    {
     "data": {
      "text/html": [
       "<div>\n",
       "<table border=\"1\" class=\"dataframe\">\n",
       "  <thead>\n",
       "    <tr style=\"text-align: right;\">\n",
       "      <th></th>\n",
       "      <th>user-id</th>\n",
       "      <th>games-played</th>\n",
       "    </tr>\n",
       "  </thead>\n",
       "  <tbody>\n",
       "    <tr>\n",
       "      <th>1478</th>\n",
       "      <td>62990992</td>\n",
       "      <td>496</td>\n",
       "    </tr>\n",
       "    <tr>\n",
       "      <th>175</th>\n",
       "      <td>11403772</td>\n",
       "      <td>314</td>\n",
       "    </tr>\n",
       "    <tr>\n",
       "      <th>4506</th>\n",
       "      <td>138941587</td>\n",
       "      <td>298</td>\n",
       "    </tr>\n",
       "    <tr>\n",
       "      <th>989</th>\n",
       "      <td>47457723</td>\n",
       "      <td>297</td>\n",
       "    </tr>\n",
       "    <tr>\n",
       "      <th>1070</th>\n",
       "      <td>49893565</td>\n",
       "      <td>297</td>\n",
       "    </tr>\n",
       "  </tbody>\n",
       "</table>\n",
       "</div>"
      ],
      "text/plain": [
       "        user-id  games-played\n",
       "1478   62990992           496\n",
       "175    11403772           314\n",
       "4506  138941587           298\n",
       "989    47457723           297\n",
       "1070   49893565           297"
      ]
     },
     "execution_count": 39,
     "metadata": {},
     "output_type": "execute_result"
    }
   ],
   "source": [
    "userdata=finalplaytimedata[['user-id','game-title']].groupby('user-id').count().reset_index() \\\n",
    ".rename(columns={'game-title':'games-played'}).sort_values(by='games-played',ascending=False)\n",
    "\n",
    "print len(userdata)\n",
    "userdata[:5]\n"
   ]
  },
  {
   "cell_type": "code",
   "execution_count": 24,
   "metadata": {
    "collapsed": true
   },
   "outputs": [],
   "source": [
    "%matplotlib inline\n",
    "import seaborn as sns\n",
    "sns.set(color_codes=True)"
   ]
  },
  {
   "cell_type": "code",
   "execution_count": 28,
   "metadata": {
    "collapsed": false
   },
   "outputs": [
    {
     "data": {
      "text/plain": [
       "<matplotlib.axes._subplots.AxesSubplot at 0x7ff3bc4ac590>"
      ]
     },
     "execution_count": 28,
     "metadata": {},
     "output_type": "execute_result"
    },
    {
     "data": {
      "image/png": "[encoded data removed]",
      "text/plain": [
       "<matplotlib.figure.Figure at 0x7ff3fc31f790>"
      ]
     },
     "metadata": {},
     "output_type": "display_data"
    }
   ],
   "source": [
    "sns.boxplot(userdata['games-played'])"
   ]
  },
  {
   "cell_type": "markdown",
   "metadata": {},
   "source": [
    "There are 11350 unique players in this dataset. But as seen in the boxplot, there are a lot of extreme players in this dataset but a majority of the players (~80%) have played less than 5 games."
   ]
  },
  {
   "cell_type": "code",
   "execution_count": 30,
   "metadata": {
    "collapsed": false
   },
   "outputs": [
    {
     "data": {
      "text/plain": [
       "6.209427312775331"
      ]
     },
     "execution_count": 30,
     "metadata": {},
     "output_type": "execute_result"
    }
   ],
   "source": [
    "userdata['games-played'].mean()"
   ]
  },
  {
   "cell_type": "code",
   "execution_count": 31,
   "metadata": {
    "collapsed": false
   },
   "outputs": [
    {
     "data": {
      "text/plain": [
       "17.75490607377872"
      ]
     },
     "execution_count": 31,
     "metadata": {},
     "output_type": "execute_result"
    }
   ],
   "source": [
    "userdata['games-played'].std()"
   ]
  },
  {
   "cell_type": "code",
   "execution_count": 154,
   "metadata": {
    "collapsed": false
   },
   "outputs": [
    {
     "data": {
      "text/plain": [
       "1.0"
      ]
     },
     "execution_count": 154,
     "metadata": {},
     "output_type": "execute_result"
    }
   ],
   "source": [
    "userdata['games-played'].median()"
   ]
  },
  {
   "cell_type": "code",
   "execution_count": 32,
   "metadata": {
    "collapsed": false
   },
   "outputs": [
    {
     "name": "stdout",
     "output_type": "stream",
     "text": [
      "Number of players with <=    1 games:  6559 ( 58%)\n",
      "Number of players with <=    5 games:  9221 ( 81%)\n",
      "Number of players with <=   10 games:  9978 ( 88%)\n",
      "Number of players with <=   25 games: 10753 ( 95%)\n",
      "Number of players with <=   50 games: 11069 ( 98%)\n",
      "Number of players with <=  100 games: 11267 ( 99%)\n",
      "Number of players with <=  250 games: 11343 (100%)\n",
      "Number of players with <=  500 games: 11350 (100%)\n"
     ]
    }
   ],
   "source": [
    "for threshold in [1,5,10,25,50,100,250,500]:\n",
    "    playercount = len(userdata[userdata['games-played']<=threshold])\n",
    "    playerpercent = 100.0*playercount/len(userdata)\n",
    "    print 'Number of players with <= %4d games: %5d (%3.0f%%)' % (threshold, playercount, playerpercent)"
   ]
  },
  {
   "cell_type": "markdown",
   "metadata": {},
   "source": [
    "### Game Data"
   ]
  },
  {
   "cell_type": "code",
   "execution_count": 42,
   "metadata": {
    "collapsed": false
   },
   "outputs": [
    {
     "name": "stdout",
     "output_type": "stream",
     "text": [
      "3581\n"
     ]
    }
   ],
   "source": [
    "gamedata=finalplaytimedata[['user-id','game-title']].groupby('game-title').count().reset_index()\\\n",
    ".rename(columns={'user-id':'players'}).sort_values('players',ascending=False)\n",
    "\n",
    "print len(gamedata)"
   ]
  },
  {
   "cell_type": "code",
   "execution_count": 43,
   "metadata": {
    "collapsed": false
   },
   "outputs": [
    {
     "data": {
      "text/html": [
       "<div>\n",
       "<table border=\"1\" class=\"dataframe\">\n",
       "  <thead>\n",
       "    <tr style=\"text-align: right;\">\n",
       "      <th></th>\n",
       "      <th>game-title</th>\n",
       "      <th>players</th>\n",
       "      <th>percent</th>\n",
       "    </tr>\n",
       "  </thead>\n",
       "  <tbody>\n",
       "    <tr>\n",
       "      <th>913</th>\n",
       "      <td>Dota 2</td>\n",
       "      <td>4841</td>\n",
       "      <td>6.873394</td>\n",
       "    </tr>\n",
       "    <tr>\n",
       "      <th>2977</th>\n",
       "      <td>Team Fortress 2</td>\n",
       "      <td>2323</td>\n",
       "      <td>3.298264</td>\n",
       "    </tr>\n",
       "    <tr>\n",
       "      <th>666</th>\n",
       "      <td>Counter-Strike Global Offensive</td>\n",
       "      <td>1377</td>\n",
       "      <td>1.955105</td>\n",
       "    </tr>\n",
       "    <tr>\n",
       "      <th>3332</th>\n",
       "      <td>Unturned</td>\n",
       "      <td>1069</td>\n",
       "      <td>1.517798</td>\n",
       "    </tr>\n",
       "    <tr>\n",
       "      <th>1721</th>\n",
       "      <td>Left 4 Dead 2</td>\n",
       "      <td>801</td>\n",
       "      <td>1.137283</td>\n",
       "    </tr>\n",
       "    <tr>\n",
       "      <th>668</th>\n",
       "      <td>Counter-Strike Source</td>\n",
       "      <td>715</td>\n",
       "      <td>1.015178</td>\n",
       "    </tr>\n",
       "    <tr>\n",
       "      <th>3050</th>\n",
       "      <td>The Elder Scrolls V Skyrim</td>\n",
       "      <td>677</td>\n",
       "      <td>0.961224</td>\n",
       "    </tr>\n",
       "    <tr>\n",
       "      <th>1304</th>\n",
       "      <td>Garry's Mod</td>\n",
       "      <td>666</td>\n",
       "      <td>0.945606</td>\n",
       "    </tr>\n",
       "    <tr>\n",
       "      <th>663</th>\n",
       "      <td>Counter-Strike</td>\n",
       "      <td>568</td>\n",
       "      <td>0.806463</td>\n",
       "    </tr>\n",
       "    <tr>\n",
       "      <th>2675</th>\n",
       "      <td>Sid Meier's Civilization V</td>\n",
       "      <td>554</td>\n",
       "      <td>0.786585</td>\n",
       "    </tr>\n",
       "  </tbody>\n",
       "</table>\n",
       "</div>"
      ],
      "text/plain": [
       "                           game-title  players   percent\n",
       "913                            Dota 2     4841  6.873394\n",
       "2977                  Team Fortress 2     2323  3.298264\n",
       "666   Counter-Strike Global Offensive     1377  1.955105\n",
       "3332                         Unturned     1069  1.517798\n",
       "1721                    Left 4 Dead 2      801  1.137283\n",
       "668             Counter-Strike Source      715  1.015178\n",
       "3050       The Elder Scrolls V Skyrim      677  0.961224\n",
       "1304                      Garry's Mod      666  0.945606\n",
       "663                    Counter-Strike      568  0.806463\n",
       "2675       Sid Meier's Civilization V      554  0.786585"
      ]
     },
     "execution_count": 43,
     "metadata": {},
     "output_type": "execute_result"
    }
   ],
   "source": [
    "gamedata['percent'] = 100*gamedata['players']/sum(gamedata['players'])\n",
    "top10=gamedata[:10]\n",
    "top10"
   ]
  },
  {
   "cell_type": "code",
   "execution_count": 44,
   "metadata": {
    "collapsed": false
   },
   "outputs": [
    {
     "data": {
      "text/plain": [
       "<matplotlib.axes._subplots.AxesSubplot at 0x7ff3ad2ccd10>"
      ]
     },
     "execution_count": 44,
     "metadata": {},
     "output_type": "execute_result"
    },
    {
     "data": {
      "image/png": "[encoded data removed]",
      "text/plain": [
       "<matplotlib.figure.Figure at 0x7ff3ad2dafd0>"
      ]
     },
     "metadata": {},
     "output_type": "display_data"
    }
   ],
   "source": [
    "sns.barplot(x=\"game-title\",y=\"percent\",data=top10)"
   ]
  },
  {
   "cell_type": "code",
   "execution_count": 47,
   "metadata": {
    "collapsed": false
   },
   "outputs": [
    {
     "name": "stdout",
     "output_type": "stream",
     "text": [
      "Number of games with <=   10 players:  2593 (72.41%)\n",
      "Number of games with <=   50 players:  3297 (92.07%)\n",
      "Number of games with <=  100 players:  3448 (96.29%)\n",
      "Number of games with <=  200 players:  3541 (98.88%)\n",
      "Number of games with <=  500 players:  3571 (99.72%)\n",
      "Number of games with <= 5000 players:  3581 (100.00%)\n"
     ]
    }
   ],
   "source": [
    "for threshold in [10,50,100,200,500,5000]:\n",
    "    playercount = len(gamedata[gamedata['players']<=threshold])\n",
    "    playerpercent = 100.0*playercount/len(gamedata)\n",
    "    print 'Number of games with <= %4d players: %5d (%3.2f%%)' % (threshold, playercount, playerpercent) "
   ]
  },
  {
   "cell_type": "markdown",
   "metadata": {},
   "source": [
    "The distribution of players is very uneven. DOTA 2 has double the players as the next game TF2. Only 6 games have more than 1% of the players in this dataset."
   ]
  },
  {
   "cell_type": "markdown",
   "metadata": {},
   "source": [
    "## Genre data"
   ]
  },
  {
   "cell_type": "code",
   "execution_count": 73,
   "metadata": {
    "collapsed": true
   },
   "outputs": [],
   "source": [
    "combine=pd.merge(gamedata,genre_dummies,on='game-title')"
   ]
  },
  {
   "cell_type": "code",
   "execution_count": 76,
   "metadata": {
    "collapsed": false
   },
   "outputs": [],
   "source": [
    "genregamecount=genre_dummies.filter(regex='genre').sum(axis=0)"
   ]
  },
  {
   "cell_type": "code",
   "execution_count": 77,
   "metadata": {
    "collapsed": false
   },
   "outputs": [],
   "source": [
    "genreplayercount=combine.filter(regex='genre').mul(combine['players'],axis=0).sum(axis=0)"
   ]
  },
  {
   "cell_type": "code",
   "execution_count": 88,
   "metadata": {
    "collapsed": false
   },
   "outputs": [],
   "source": [
    "genrecombined=pd.DataFrame({'games':genregamecount,'players':genreplayercount})"
   ]
  },
  {
   "cell_type": "code",
   "execution_count": 91,
   "metadata": {
    "collapsed": false
   },
   "outputs": [],
   "source": [
    "genrecombined['avg-players']=genrecombined['players']/genrecombined['games']"
   ]
  },
  {
   "cell_type": "code",
   "execution_count": 101,
   "metadata": {
    "collapsed": false
   },
   "outputs": [
    {
     "name": "stderr",
     "output_type": "stream",
     "text": [
      "/home/rahulhp/anaconda2/envs/gl-env/lib/python2.7/site-packages/ipykernel/__main__.py:1: FutureWarning: sort(columns=....) is deprecated, use sort_values(by=.....)\n",
      "  if __name__ == '__main__':\n"
     ]
    },
    {
     "data": {
      "text/html": [
       "<div>\n",
       "<table border=\"1\" class=\"dataframe\">\n",
       "  <thead>\n",
       "    <tr style=\"text-align: right;\">\n",
       "      <th></th>\n",
       "      <th>games</th>\n",
       "      <th>players</th>\n",
       "      <th>avg-players</th>\n",
       "    </tr>\n",
       "  </thead>\n",
       "  <tbody>\n",
       "    <tr>\n",
       "      <th>genre_30.0</th>\n",
       "      <td>1.0</td>\n",
       "      <td>1.0</td>\n",
       "      <td>1.000000</td>\n",
       "    </tr>\n",
       "    <tr>\n",
       "      <th>genre_26.0</th>\n",
       "      <td>6.0</td>\n",
       "      <td>14.0</td>\n",
       "      <td>2.333333</td>\n",
       "    </tr>\n",
       "    <tr>\n",
       "      <th>genre_7.0</th>\n",
       "      <td>28.0</td>\n",
       "      <td>316.0</td>\n",
       "      <td>11.285714</td>\n",
       "    </tr>\n",
       "    <tr>\n",
       "      <th>genre_4.0</th>\n",
       "      <td>62.0</td>\n",
       "      <td>1908.0</td>\n",
       "      <td>30.774194</td>\n",
       "    </tr>\n",
       "    <tr>\n",
       "      <th>genre_14.0</th>\n",
       "      <td>101.0</td>\n",
       "      <td>1281.0</td>\n",
       "      <td>12.683168</td>\n",
       "    </tr>\n",
       "    <tr>\n",
       "      <th>genre_25.0</th>\n",
       "      <td>124.0</td>\n",
       "      <td>2964.0</td>\n",
       "      <td>23.903226</td>\n",
       "    </tr>\n",
       "    <tr>\n",
       "      <th>genre_16.0</th>\n",
       "      <td>130.0</td>\n",
       "      <td>2463.0</td>\n",
       "      <td>18.946154</td>\n",
       "    </tr>\n",
       "    <tr>\n",
       "      <th>genre_10.0</th>\n",
       "      <td>140.0</td>\n",
       "      <td>2381.0</td>\n",
       "      <td>17.007143</td>\n",
       "    </tr>\n",
       "    <tr>\n",
       "      <th>genre_24.0</th>\n",
       "      <td>147.0</td>\n",
       "      <td>11998.0</td>\n",
       "      <td>81.619048</td>\n",
       "    </tr>\n",
       "    <tr>\n",
       "      <th>genre_33.0</th>\n",
       "      <td>157.0</td>\n",
       "      <td>1667.0</td>\n",
       "      <td>10.617834</td>\n",
       "    </tr>\n",
       "    <tr>\n",
       "      <th>genre_2.0</th>\n",
       "      <td>186.0</td>\n",
       "      <td>1269.0</td>\n",
       "      <td>6.822581</td>\n",
       "    </tr>\n",
       "    <tr>\n",
       "      <th>genre_11.0</th>\n",
       "      <td>219.0</td>\n",
       "      <td>8257.0</td>\n",
       "      <td>37.703196</td>\n",
       "    </tr>\n",
       "    <tr>\n",
       "      <th>genre_8.0</th>\n",
       "      <td>248.0</td>\n",
       "      <td>4672.0</td>\n",
       "      <td>18.838710</td>\n",
       "    </tr>\n",
       "    <tr>\n",
       "      <th>genre_9.0</th>\n",
       "      <td>286.0</td>\n",
       "      <td>4131.0</td>\n",
       "      <td>14.444056</td>\n",
       "    </tr>\n",
       "    <tr>\n",
       "      <th>genre_13.0</th>\n",
       "      <td>333.0</td>\n",
       "      <td>5989.0</td>\n",
       "      <td>17.984985</td>\n",
       "    </tr>\n",
       "    <tr>\n",
       "      <th>genre_0.0</th>\n",
       "      <td>388.0</td>\n",
       "      <td>2999.0</td>\n",
       "      <td>7.729381</td>\n",
       "    </tr>\n",
       "    <tr>\n",
       "      <th>genre_15.0</th>\n",
       "      <td>534.0</td>\n",
       "      <td>11676.0</td>\n",
       "      <td>21.865169</td>\n",
       "    </tr>\n",
       "    <tr>\n",
       "      <th>genre_12.0</th>\n",
       "      <td>535.0</td>\n",
       "      <td>16227.0</td>\n",
       "      <td>30.330841</td>\n",
       "    </tr>\n",
       "    <tr>\n",
       "      <th>genre_5.0</th>\n",
       "      <td>569.0</td>\n",
       "      <td>24645.0</td>\n",
       "      <td>43.312830</td>\n",
       "    </tr>\n",
       "    <tr>\n",
       "      <th>genre_31.0</th>\n",
       "      <td>1065.0</td>\n",
       "      <td>19653.0</td>\n",
       "      <td>18.453521</td>\n",
       "    </tr>\n",
       "    <tr>\n",
       "      <th>genre_32.0</th>\n",
       "      <td>1073.0</td>\n",
       "      <td>15798.0</td>\n",
       "      <td>14.723206</td>\n",
       "    </tr>\n",
       "  </tbody>\n",
       "</table>\n",
       "</div>"
      ],
      "text/plain": [
       "             games  players  avg-players\n",
       "genre_30.0     1.0      1.0     1.000000\n",
       "genre_26.0     6.0     14.0     2.333333\n",
       "genre_7.0     28.0    316.0    11.285714\n",
       "genre_4.0     62.0   1908.0    30.774194\n",
       "genre_14.0   101.0   1281.0    12.683168\n",
       "genre_25.0   124.0   2964.0    23.903226\n",
       "genre_16.0   130.0   2463.0    18.946154\n",
       "genre_10.0   140.0   2381.0    17.007143\n",
       "genre_24.0   147.0  11998.0    81.619048\n",
       "genre_33.0   157.0   1667.0    10.617834\n",
       "genre_2.0    186.0   1269.0     6.822581\n",
       "genre_11.0   219.0   8257.0    37.703196\n",
       "genre_8.0    248.0   4672.0    18.838710\n",
       "genre_9.0    286.0   4131.0    14.444056\n",
       "genre_13.0   333.0   5989.0    17.984985\n",
       "genre_0.0    388.0   2999.0     7.729381\n",
       "genre_15.0   534.0  11676.0    21.865169\n",
       "genre_12.0   535.0  16227.0    30.330841\n",
       "genre_5.0    569.0  24645.0    43.312830\n",
       "genre_31.0  1065.0  19653.0    18.453521\n",
       "genre_32.0  1073.0  15798.0    14.723206"
      ]
     },
     "execution_count": 101,
     "metadata": {},
     "output_type": "execute_result"
    }
   ],
   "source": [
    "genrecombined.sort('games')"
   ]
  },
  {
   "cell_type": "markdown",
   "metadata": {},
   "source": [
    "Genre 24 (Tactical games) has only 147 games but it has the highest average players per game. This is because DOTA 2 (the most popular game) falls in this genre."
   ]
  },
  {
   "cell_type": "markdown",
   "metadata": {},
   "source": [
    "## Scoring Function"
   ]
  },
  {
   "cell_type": "markdown",
   "metadata": {},
   "source": [
    "Since a score was the target variable, it has to be created for the whole dataset together (since we needed scores for the test interactions too). But to avoid this test data from leaking into the training data, the scores for the training data were also calculated separately. \n",
    "\n",
    "A separate create_score() function was created for this function. Splitting the dataset properly so that no leakage occurred was a major issue during this step. Sanity checks and debugging statements were used at each step to ensure that the correct number of rows existed at each step.\n",
    "\n",
    "![][scoring]\n",
    "\n",
    "[scoring]: Scoring.jpg"
   ]
  },
  {
   "cell_type": "code",
   "execution_count": 102,
   "metadata": {
    "collapsed": true
   },
   "outputs": [],
   "source": [
    "import graphlab as gl"
   ]
  },
  {
   "cell_type": "code",
   "execution_count": 104,
   "metadata": {
    "collapsed": false
   },
   "outputs": [],
   "source": [
    "playtimedataSF = gl.SFrame(finalplaytimedata)\n",
    "genreSF = gl.SFrame(genre_dummies)"
   ]
  },
  {
   "cell_type": "code",
   "execution_count": 105,
   "metadata": {
    "collapsed": true
   },
   "outputs": [],
   "source": [
    "def create_score(dataset):\n",
    "    #print 'Creating scores.'\n",
    "    #print \"There are \" + str(dataset.shape[0]) + \" interactions in this dataset.\"\n",
    "    totalhours=dataset.groupby(key_columns='user-id',operations={'total_hours':gl.aggregate.SUM('hours')})\n",
    "    #print \"There are \" + str(totalhours.shape[0]) + \" unique users in this dataset.\"\n",
    "    \n",
    "    hoursjoined = dataset.join(totalhours,on='user-id')\n",
    "    hoursjoined['personal-ratio']=hoursjoined['hours']/hoursjoined['total_hours']\n",
    "    hoursjoined.remove_columns(['hours','total_hours'])\n",
    "    #print \"There are \" + str(hoursjoined.shape[0]) + \" interactions in the personal-ratio dataset.\"\n",
    "    \n",
    "    gamedist=dataset.groupby(key_columns='game-title',operations={'hours-avg':gl.aggregate.MEAN('hours'),\n",
    "                                                           'hours-std':gl.aggregate.STD('hours')})\n",
    "    #print \"There are \" + str(gamedist.shape[0]) + \" unique games in this dataset.\"\n",
    "    \n",
    "    playerdist = dataset.join(gamedist,on='game-title')\n",
    "    playerdist['normalised-ratio']=(playerdist['hours']-playerdist['hours-avg'])/playerdist['hours-std']\n",
    "    playerdist = playerdist.fillna('normalised-ratio',0)\n",
    "    playerdist.remove_columns(['hours','hours-std','hours-avg'])\n",
    "    \n",
    "    #print \"There are \" + str(playerdist.shape[0]) + \" interactions in the player-distribution dataset.\"\n",
    "    \n",
    "    joined = playerdist.join(hoursjoined)\n",
    "    joined['score']=joined['normalised-ratio']*joined['personal-ratio']\n",
    "    joined.remove_columns(['normalised-ratio','personal-ratio'])\n",
    "    #print \"There are \" + str(joined.shape[0]) + \" scores in the final scoring dataset.\"\n",
    "    return joined"
   ]
  },
  {
   "cell_type": "code",
   "execution_count": 106,
   "metadata": {
    "collapsed": false
   },
   "outputs": [
    {
     "name": "stdout",
     "output_type": "stream",
     "text": [
      "(69232, 3)\n",
      "(1199, 3)\n"
     ]
    }
   ],
   "source": [
    "train, other = gl.recommender.util.random_split_by_user(playtimedataSF,user_id='user-id',item_id='game-title',random_seed=12)\n",
    "print train.shape\n",
    "print other.shape"
   ]
  },
  {
   "cell_type": "code",
   "execution_count": 107,
   "metadata": {
    "collapsed": false
   },
   "outputs": [
    {
     "name": "stdout",
     "output_type": "stream",
     "text": [
      "(69232, 3)\n",
      "(970, 3)\n",
      "(229, 3)\n"
     ]
    }
   ],
   "source": [
    "train_score = create_score(train)\n",
    "\n",
    "whole_score = create_score(playtimedataSF)\n",
    "\n",
    "other_score = other.join(whole_score,how='left')\n",
    "other_score = other_score.remove_column('hours')\n",
    "cv_score,test_score = gl.recommender.util.random_split_by_user(other_score,user_id='user-id',item_id='game-title',random_seed=12)\n",
    "\n",
    "print train_score.shape\n",
    "print cv_score.shape\n",
    "print test_score.shape"
   ]
  },
  {
   "cell_type": "markdown",
   "metadata": {},
   "source": [
    "## Benchmark model"
   ]
  },
  {
   "cell_type": "markdown",
   "metadata": {},
   "source": [
    "A basic popularity recommender is created. This will be used as the benchmark model and the factorisation recommender performance will be compared to this model."
   ]
  },
  {
   "cell_type": "code",
   "execution_count": 108,
   "metadata": {
    "collapsed": false
   },
   "outputs": [
    {
     "data": {
      "text/html": [
       "<pre>Recsys training: model = popularity</pre>"
      ],
      "text/plain": [
       "Recsys training: model = popularity"
      ]
     },
     "metadata": {},
     "output_type": "display_data"
    },
    {
     "data": {
      "text/html": [
       "<pre>Preparing data set.</pre>"
      ],
      "text/plain": [
       "Preparing data set."
      ]
     },
     "metadata": {},
     "output_type": "display_data"
    },
    {
     "data": {
      "text/html": [
       "<pre>    Data has 69232 observations with 11221 users and 3558 items.</pre>"
      ],
      "text/plain": [
       "    Data has 69232 observations with 11221 users and 3558 items."
      ]
     },
     "metadata": {},
     "output_type": "display_data"
    },
    {
     "data": {
      "text/html": [
       "<pre>    Data prepared in: 0.316876s</pre>"
      ],
      "text/plain": [
       "    Data prepared in: 0.316876s"
      ]
     },
     "metadata": {},
     "output_type": "display_data"
    },
    {
     "data": {
      "text/html": [
       "<pre>69232 observations to process; with 3558 unique items.</pre>"
      ],
      "text/plain": [
       "69232 observations to process; with 3558 unique items."
      ]
     },
     "metadata": {},
     "output_type": "display_data"
    }
   ],
   "source": [
    "basemodel = gl.recommender.popularity_recommender.create(train_score,user_id='user-id'\n",
    "                                                         ,item_id='game-title',target='score')"
   ]
  },
  {
   "cell_type": "code",
   "execution_count": 109,
   "metadata": {
    "collapsed": false
   },
   "outputs": [
    {
     "data": {
      "text/plain": [
       "0.4796248793464026"
      ]
     },
     "execution_count": 109,
     "metadata": {},
     "output_type": "execute_result"
    }
   ],
   "source": [
    "gl.evaluation.rmse(basemodel.predict(cv_score), cv_score['score'])"
   ]
  },
  {
   "cell_type": "markdown",
   "metadata": {},
   "source": [
    "The popularity recommender has an RMSE of 0.479 on the cross validation data."
   ]
  },
  {
   "cell_type": "markdown",
   "metadata": {},
   "source": [
    "## Factorisation Recommender"
   ]
  },
  {
   "cell_type": "code",
   "execution_count": 110,
   "metadata": {
    "collapsed": false
   },
   "outputs": [
    {
     "data": {
      "text/html": [
       "<pre>Recsys training: model = factorization_recommender</pre>"
      ],
      "text/plain": [
       "Recsys training: model = factorization_recommender"
      ]
     },
     "metadata": {},
     "output_type": "display_data"
    },
    {
     "data": {
      "text/html": [
       "<pre>Preparing data set.</pre>"
      ],
      "text/plain": [
       "Preparing data set."
      ]
     },
     "metadata": {},
     "output_type": "display_data"
    },
    {
     "data": {
      "text/html": [
       "<pre>    Data has 69232 observations with 11221 users and 3581 items.</pre>"
      ],
      "text/plain": [
       "    Data has 69232 observations with 11221 users and 3581 items."
      ]
     },
     "metadata": {},
     "output_type": "display_data"
    },
    {
     "data": {
      "text/html": [
       "<pre>    Data prepared in: 0.250445s</pre>"
      ],
      "text/plain": [
       "    Data prepared in: 0.250445s"
      ]
     },
     "metadata": {},
     "output_type": "display_data"
    },
    {
     "data": {
      "text/html": [
       "<pre>Training factorization_recommender for recommendations.</pre>"
      ],
      "text/plain": [
       "Training factorization_recommender for recommendations."
      ]
     },
     "metadata": {},
     "output_type": "display_data"
    },
    {
     "data": {
      "text/html": [
       "<pre>+--------------------------------+--------------------------------------------------+----------+</pre>"
      ],
      "text/plain": [
       "+--------------------------------+--------------------------------------------------+----------+"
      ]
     },
     "metadata": {},
     "output_type": "display_data"
    },
    {
     "data": {
      "text/html": [
       "<pre>| Parameter                      | Description                                      | Value    |</pre>"
      ],
      "text/plain": [
       "| Parameter                      | Description                                      | Value    |"
      ]
     },
     "metadata": {},
     "output_type": "display_data"
    },
    {
     "data": {
      "text/html": [
       "<pre>+--------------------------------+--------------------------------------------------+----------+</pre>"
      ],
      "text/plain": [
       "+--------------------------------+--------------------------------------------------+----------+"
      ]
     },
     "metadata": {},
     "output_type": "display_data"
    },
    {
     "data": {
      "text/html": [
       "<pre>| num_factors                    | Factor Dimension                                 | 8        |</pre>"
      ],
      "text/plain": [
       "| num_factors                    | Factor Dimension                                 | 8        |"
      ]
     },
     "metadata": {},
     "output_type": "display_data"
    },
    {
     "data": {
      "text/html": [
       "<pre>| regularization                 | L2 Regularization on Factors                     | 1e-08    |</pre>"
      ],
      "text/plain": [
       "| regularization                 | L2 Regularization on Factors                     | 1e-08    |"
      ]
     },
     "metadata": {},
     "output_type": "display_data"
    },
    {
     "data": {
      "text/html": [
       "<pre>| solver                         | Solver used for training                         | adagrad  |</pre>"
      ],
      "text/plain": [
       "| solver                         | Solver used for training                         | adagrad  |"
      ]
     },
     "metadata": {},
     "output_type": "display_data"
    },
    {
     "data": {
      "text/html": [
       "<pre>| linear_regularization          | L2 Regularization on Linear Coefficients         | 1e-10    |</pre>"
      ],
      "text/plain": [
       "| linear_regularization          | L2 Regularization on Linear Coefficients         | 1e-10    |"
      ]
     },
     "metadata": {},
     "output_type": "display_data"
    },
    {
     "data": {
      "text/html": [
       "<pre>| side_data_factorization        | Assign Factors for Side Data                     | True     |</pre>"
      ],
      "text/plain": [
       "| side_data_factorization        | Assign Factors for Side Data                     | True     |"
      ]
     },
     "metadata": {},
     "output_type": "display_data"
    },
    {
     "data": {
      "text/html": [
       "<pre>| max_iterations                 | Maximum Number of Iterations                     | 50       |</pre>"
      ],
      "text/plain": [
       "| max_iterations                 | Maximum Number of Iterations                     | 50       |"
      ]
     },
     "metadata": {},
     "output_type": "display_data"
    },
    {
     "data": {
      "text/html": [
       "<pre>+--------------------------------+--------------------------------------------------+----------+</pre>"
      ],
      "text/plain": [
       "+--------------------------------+--------------------------------------------------+----------+"
      ]
     },
     "metadata": {},
     "output_type": "display_data"
    },
    {
     "data": {
      "text/html": [
       "<pre>  Optimizing model using SGD; tuning step size.</pre>"
      ],
      "text/plain": [
       "  Optimizing model using SGD; tuning step size."
      ]
     },
     "metadata": {},
     "output_type": "display_data"
    },
    {
     "data": {
      "text/html": [
       "<pre>  Using 10000 / 69232 points for tuning the step size.</pre>"
      ],
      "text/plain": [
       "  Using 10000 / 69232 points for tuning the step size."
      ]
     },
     "metadata": {},
     "output_type": "display_data"
    },
    {
     "data": {
      "text/html": [
       "<pre>+---------+-------------------+------------------------------------------+</pre>"
      ],
      "text/plain": [
       "+---------+-------------------+------------------------------------------+"
      ]
     },
     "metadata": {},
     "output_type": "display_data"
    },
    {
     "data": {
      "text/html": [
       "<pre>| Attempt | Initial Step Size | Estimated Objective Value                |</pre>"
      ],
      "text/plain": [
       "| Attempt | Initial Step Size | Estimated Objective Value                |"
      ]
     },
     "metadata": {},
     "output_type": "display_data"
    },
    {
     "data": {
      "text/html": [
       "<pre>+---------+-------------------+------------------------------------------+</pre>"
      ],
      "text/plain": [
       "+---------+-------------------+------------------------------------------+"
      ]
     },
     "metadata": {},
     "output_type": "display_data"
    },
    {
     "data": {
      "text/html": [
       "<pre>| 0       | 2.17391           | Not Viable                               |</pre>"
      ],
      "text/plain": [
       "| 0       | 2.17391           | Not Viable                               |"
      ]
     },
     "metadata": {},
     "output_type": "display_data"
    },
    {
     "data": {
      "text/html": [
       "<pre>| 1       | 0.543478          | Not Viable                               |</pre>"
      ],
      "text/plain": [
       "| 1       | 0.543478          | Not Viable                               |"
      ]
     },
     "metadata": {},
     "output_type": "display_data"
    },
    {
     "data": {
      "text/html": [
       "<pre>| 2       | 0.13587           | Not Viable                               |</pre>"
      ],
      "text/plain": [
       "| 2       | 0.13587           | Not Viable                               |"
      ]
     },
     "metadata": {},
     "output_type": "display_data"
    },
    {
     "data": {
      "text/html": [
       "<pre>| 3       | 0.0339674         | 0.15806                                  |</pre>"
      ],
      "text/plain": [
       "| 3       | 0.0339674         | 0.15806                                  |"
      ]
     },
     "metadata": {},
     "output_type": "display_data"
    },
    {
     "data": {
      "text/html": [
       "<pre>| 4       | 0.0169837         | 0.174171                                 |</pre>"
      ],
      "text/plain": [
       "| 4       | 0.0169837         | 0.174171                                 |"
      ]
     },
     "metadata": {},
     "output_type": "display_data"
    },
    {
     "data": {
      "text/html": [
       "<pre>| 5       | 0.00849185        | 0.193037                                 |</pre>"
      ],
      "text/plain": [
       "| 5       | 0.00849185        | 0.193037                                 |"
      ]
     },
     "metadata": {},
     "output_type": "display_data"
    },
    {
     "data": {
      "text/html": [
       "<pre>| 6       | 0.00424592        | 0.199002                                 |</pre>"
      ],
      "text/plain": [
       "| 6       | 0.00424592        | 0.199002                                 |"
      ]
     },
     "metadata": {},
     "output_type": "display_data"
    },
    {
     "data": {
      "text/html": [
       "<pre>+---------+-------------------+------------------------------------------+</pre>"
      ],
      "text/plain": [
       "+---------+-------------------+------------------------------------------+"
      ]
     },
     "metadata": {},
     "output_type": "display_data"
    },
    {
     "data": {
      "text/html": [
       "<pre>| Final   | 0.0339674         | 0.15806                                  |</pre>"
      ],
      "text/plain": [
       "| Final   | 0.0339674         | 0.15806                                  |"
      ]
     },
     "metadata": {},
     "output_type": "display_data"
    },
    {
     "data": {
      "text/html": [
       "<pre>+---------+-------------------+------------------------------------------+</pre>"
      ],
      "text/plain": [
       "+---------+-------------------+------------------------------------------+"
      ]
     },
     "metadata": {},
     "output_type": "display_data"
    },
    {
     "data": {
      "text/html": [
       "<pre>Starting Optimization.</pre>"
      ],
      "text/plain": [
       "Starting Optimization."
      ]
     },
     "metadata": {},
     "output_type": "display_data"
    },
    {
     "data": {
      "text/html": [
       "<pre>+---------+--------------+-------------------+-----------------------+-------------+</pre>"
      ],
      "text/plain": [
       "+---------+--------------+-------------------+-----------------------+-------------+"
      ]
     },
     "metadata": {},
     "output_type": "display_data"
    },
    {
     "data": {
      "text/html": [
       "<pre>| Iter.   | Elapsed Time | Approx. Objective | Approx. Training RMSE | Step Size   |</pre>"
      ],
      "text/plain": [
       "| Iter.   | Elapsed Time | Approx. Objective | Approx. Training RMSE | Step Size   |"
      ]
     },
     "metadata": {},
     "output_type": "display_data"
    },
    {
     "data": {
      "text/html": [
       "<pre>+---------+--------------+-------------------+-----------------------+-------------+</pre>"
      ],
      "text/plain": [
       "+---------+--------------+-------------------+-----------------------+-------------+"
      ]
     },
     "metadata": {},
     "output_type": "display_data"
    },
    {
     "data": {
      "text/html": [
       "<pre>| Initial | 195us        | 0.232142          | 0.481811              |             |</pre>"
      ],
      "text/plain": [
       "| Initial | 195us        | 0.232142          | 0.481811              |             |"
      ]
     },
     "metadata": {},
     "output_type": "display_data"
    },
    {
     "data": {
      "text/html": [
       "<pre>+---------+--------------+-------------------+-----------------------+-------------+</pre>"
      ],
      "text/plain": [
       "+---------+--------------+-------------------+-----------------------+-------------+"
      ]
     },
     "metadata": {},
     "output_type": "display_data"
    },
    {
     "data": {
      "text/html": [
       "<pre>| 1       | 333.179ms    | 0.457293          | 0.676228              | 0.0339674   |</pre>"
      ],
      "text/plain": [
       "| 1       | 333.179ms    | 0.457293          | 0.676228              | 0.0339674   |"
      ]
     },
     "metadata": {},
     "output_type": "display_data"
    },
    {
     "data": {
      "text/html": [
       "<pre>| 2       | 688.785ms    | DIVERGED          | DIVERGED              | 0.0339674   |</pre>"
      ],
      "text/plain": [
       "| 2       | 688.785ms    | DIVERGED          | DIVERGED              | 0.0339674   |"
      ]
     },
     "metadata": {},
     "output_type": "display_data"
    },
    {
     "data": {
      "text/html": [
       "<pre>| RESET   | 781.723ms    | 0.232142          | 0.481811              |             |</pre>"
      ],
      "text/plain": [
       "| RESET   | 781.723ms    | 0.232142          | 0.481811              |             |"
      ]
     },
     "metadata": {},
     "output_type": "display_data"
    },
    {
     "data": {
      "text/html": [
       "<pre>| 1       | 1.14s        | 0.233856          | 0.483586              | 0.0169837   |</pre>"
      ],
      "text/plain": [
       "| 1       | 1.14s        | 0.233856          | 0.483586              | 0.0169837   |"
      ]
     },
     "metadata": {},
     "output_type": "display_data"
    },
    {
     "data": {
      "text/html": [
       "<pre>| 2       | 1.47s        | 0.227827          | 0.477311              | 0.0169837   |</pre>"
      ],
      "text/plain": [
       "| 2       | 1.47s        | 0.227827          | 0.477311              | 0.0169837   |"
      ]
     },
     "metadata": {},
     "output_type": "display_data"
    },
    {
     "data": {
      "text/html": [
       "<pre>| 3       | 1.91s        | 0.230452          | 0.480053              | 0.0169837   |</pre>"
      ],
      "text/plain": [
       "| 3       | 1.91s        | 0.230452          | 0.480053              | 0.0169837   |"
      ]
     },
     "metadata": {},
     "output_type": "display_data"
    },
    {
     "data": {
      "text/html": [
       "<pre>| 4       | 2.19s        | 0.434907          | 0.659473              | 0.0169837   |</pre>"
      ],
      "text/plain": [
       "| 4       | 2.19s        | 0.434907          | 0.659473              | 0.0169837   |"
      ]
     },
     "metadata": {},
     "output_type": "display_data"
    },
    {
     "data": {
      "text/html": [
       "<pre>| 5       | 2.53s        | DIVERGED          | DIVERGED              | 0.0169837   |</pre>"
      ],
      "text/plain": [
       "| 5       | 2.53s        | DIVERGED          | DIVERGED              | 0.0169837   |"
      ]
     },
     "metadata": {},
     "output_type": "display_data"
    },
    {
     "data": {
      "text/html": [
       "<pre>| RESET   | 2.60s        | 0.232143          | 0.481812              |             |</pre>"
      ],
      "text/plain": [
       "| RESET   | 2.60s        | 0.232143          | 0.481812              |             |"
      ]
     },
     "metadata": {},
     "output_type": "display_data"
    },
    {
     "data": {
      "text/html": [
       "<pre>| 1       | 2.90s        | 0.232859          | 0.482555              | 0.00849185  |</pre>"
      ],
      "text/plain": [
       "| 1       | 2.90s        | 0.232859          | 0.482555              | 0.00849185  |"
      ]
     },
     "metadata": {},
     "output_type": "display_data"
    },
    {
     "data": {
      "text/html": [
       "<pre>| 3       | 3.46s        | 0.226978          | 0.476422              | 0.00849185  |</pre>"
      ],
      "text/plain": [
       "| 3       | 3.46s        | 0.226978          | 0.476422              | 0.00849185  |"
      ]
     },
     "metadata": {},
     "output_type": "display_data"
    },
    {
     "data": {
      "text/html": [
       "<pre>| 6       | 4.47s        | 0.22236           | 0.47155               | 0.00849185  |</pre>"
      ],
      "text/plain": [
       "| 6       | 4.47s        | 0.22236           | 0.47155               | 0.00849185  |"
      ]
     },
     "metadata": {},
     "output_type": "display_data"
    },
    {
     "data": {
      "text/html": [
       "<pre>| 8       | 5.06s        | 0.220761          | 0.469852              | 0.00849185  |</pre>"
      ],
      "text/plain": [
       "| 8       | 5.06s        | 0.220761          | 0.469852              | 0.00849185  |"
      ]
     },
     "metadata": {},
     "output_type": "display_data"
    },
    {
     "data": {
      "text/html": [
       "<pre>| 13      | 6.38s        | 0.235932          | 0.485727              | 0.00849185  |</pre>"
      ],
      "text/plain": [
       "| 13      | 6.38s        | 0.235932          | 0.485727              | 0.00849185  |"
      ]
     },
     "metadata": {},
     "output_type": "display_data"
    },
    {
     "data": {
      "text/html": [
       "<pre>| 16      | 7.39s        | DIVERGED          | DIVERGED              | 0.00849185  |</pre>"
      ],
      "text/plain": [
       "| 16      | 7.39s        | DIVERGED          | DIVERGED              | 0.00849185  |"
      ]
     },
     "metadata": {},
     "output_type": "display_data"
    },
    {
     "data": {
      "text/html": [
       "<pre>| RESET   | 7.46s        | 0.23214           | 0.481809              |             |</pre>"
      ],
      "text/plain": [
       "| RESET   | 7.46s        | 0.23214           | 0.481809              |             |"
      ]
     },
     "metadata": {},
     "output_type": "display_data"
    },
    {
     "data": {
      "text/html": [
       "<pre>| 2       | 8.08s        | 0.230712          | 0.480324              | 0.00424592  |</pre>"
      ],
      "text/plain": [
       "| 2       | 8.08s        | 0.230712          | 0.480324              | 0.00424592  |"
      ]
     },
     "metadata": {},
     "output_type": "display_data"
    },
    {
     "data": {
      "text/html": [
       "<pre>| 7       | 9.38s        | 0.226936          | 0.476378              | 0.00424592  |</pre>"
      ],
      "text/plain": [
       "| 7       | 9.38s        | 0.226936          | 0.476378              | 0.00424592  |"
      ]
     },
     "metadata": {},
     "output_type": "display_data"
    },
    {
     "data": {
      "text/html": [
       "<pre>| 12      | 10.78s       | 0.224473          | 0.473786              | 0.00424592  |</pre>"
      ],
      "text/plain": [
       "| 12      | 10.78s       | 0.224473          | 0.473786              | 0.00424592  |"
      ]
     },
     "metadata": {},
     "output_type": "display_data"
    },
    {
     "data": {
      "text/html": [
       "<pre>| 17      | 12.18s       | 0.222414          | 0.471607              | 0.00424592  |</pre>"
      ],
      "text/plain": [
       "| 17      | 12.18s       | 0.222414          | 0.471607              | 0.00424592  |"
      ]
     },
     "metadata": {},
     "output_type": "display_data"
    },
    {
     "data": {
      "text/html": [
       "<pre>| 22      | 13.59s       | 0.22067           | 0.469755              | 0.00424592  |</pre>"
      ],
      "text/plain": [
       "| 22      | 13.59s       | 0.22067           | 0.469755              | 0.00424592  |"
      ]
     },
     "metadata": {},
     "output_type": "display_data"
    },
    {
     "data": {
      "text/html": [
       "<pre>| 27      | 15.14s       | 0.218975          | 0.467948              | 0.00424592  |</pre>"
      ],
      "text/plain": [
       "| 27      | 15.14s       | 0.218975          | 0.467948              | 0.00424592  |"
      ]
     },
     "metadata": {},
     "output_type": "display_data"
    },
    {
     "data": {
      "text/html": [
       "<pre>| 31      | 16.40s       | 0.217855          | 0.466749              | 0.00424592  |</pre>"
      ],
      "text/plain": [
       "| 31      | 16.40s       | 0.217855          | 0.466749              | 0.00424592  |"
      ]
     },
     "metadata": {},
     "output_type": "display_data"
    },
    {
     "data": {
      "text/html": [
       "<pre>| 32      | 16.70s       | 0.21758           | 0.466454              | 0.00424592  |</pre>"
      ],
      "text/plain": [
       "| 32      | 16.70s       | 0.21758           | 0.466454              | 0.00424592  |"
      ]
     },
     "metadata": {},
     "output_type": "display_data"
    },
    {
     "data": {
      "text/html": [
       "<pre>+---------+--------------+-------------------+-----------------------+-------------+</pre>"
      ],
      "text/plain": [
       "+---------+--------------+-------------------+-----------------------+-------------+"
      ]
     },
     "metadata": {},
     "output_type": "display_data"
    },
    {
     "data": {
      "text/html": [
       "<pre>Optimization Complete: Maximum number of passes through the data reached (hard limit).</pre>"
      ],
      "text/plain": [
       "Optimization Complete: Maximum number of passes through the data reached (hard limit)."
      ]
     },
     "metadata": {},
     "output_type": "display_data"
    },
    {
     "data": {
      "text/html": [
       "<pre>Computing final objective value and training RMSE.</pre>"
      ],
      "text/plain": [
       "Computing final objective value and training RMSE."
      ]
     },
     "metadata": {},
     "output_type": "display_data"
    },
    {
     "data": {
      "text/html": [
       "<pre>       Final objective value: 0.217244</pre>"
      ],
      "text/plain": [
       "       Final objective value: 0.217244"
      ]
     },
     "metadata": {},
     "output_type": "display_data"
    },
    {
     "data": {
      "text/html": [
       "<pre>       Final training RMSE: 0.466094</pre>"
      ],
      "text/plain": [
       "       Final training RMSE: 0.466094"
      ]
     },
     "metadata": {},
     "output_type": "display_data"
    }
   ],
   "source": [
    "simplemodel = gl.recommender.factorization_recommender.create(train_score,user_id='user-id',item_id='game-title',target='score',item_data=genreSF)"
   ]
  },
  {
   "cell_type": "code",
   "execution_count": 111,
   "metadata": {
    "collapsed": false
   },
   "outputs": [
    {
     "data": {
      "text/plain": [
       "0.48101388952900964"
      ]
     },
     "execution_count": 111,
     "metadata": {},
     "output_type": "execute_result"
    }
   ],
   "source": [
    "gl.evaluation.rmse(simplemodel.predict(cv_score), cv_score['score'])"
   ]
  },
  {
   "cell_type": "markdown",
   "metadata": {},
   "source": [
    "The factorisation recommender has an RMSE of 0.481 which is comparable to that of the popularity recommender. Hyperparameter tuning will now be done to see if the performance improves."
   ]
  },
  {
   "cell_type": "markdown",
   "metadata": {},
   "source": [
    "## Hyperparameter tuning"
   ]
  },
  {
   "cell_type": "code",
   "execution_count": 112,
   "metadata": {
    "collapsed": true
   },
   "outputs": [],
   "source": [
    "from graphlab import model_parameter_search"
   ]
  },
  {
   "cell_type": "code",
   "execution_count": 113,
   "metadata": {
    "collapsed": true
   },
   "outputs": [],
   "source": [
    "def rmse_evaluator(model,train,test):\n",
    "    rmse = gl.evaluation.rmse(model.predict(test),test['score'])\n",
    "    return {'rmse':rmse}"
   ]
  },
  {
   "cell_type": "code",
   "execution_count": 114,
   "metadata": {
    "collapsed": false
   },
   "outputs": [
    {
     "name": "stderr",
     "output_type": "stream",
     "text": [
      "[INFO] graphlab.deploy.job: Validating job.\n",
      "[INFO] graphlab.deploy.job: Creating a LocalAsync environment called 'async'.\n",
      "[INFO] graphlab.deploy.map_job: Validation complete. Job: 'Model-Parameter-Search-Aug-14-2017-20-44-4100000' ready for execution\n",
      "[INFO] graphlab.deploy.map_job: Job: 'Model-Parameter-Search-Aug-14-2017-20-44-4100000' scheduled.\n",
      "[INFO] graphlab.deploy.job: Validating job.\n",
      "[INFO] graphlab.deploy.map_job: A job with name 'Model-Parameter-Search-Aug-14-2017-20-44-4100000' already exists. Renaming the job to 'Model-Parameter-Search-Aug-14-2017-20-44-4100000-97966'.\n",
      "[INFO] graphlab.deploy.map_job: Validation complete. Job: 'Model-Parameter-Search-Aug-14-2017-20-44-4100000-97966' ready for execution\n",
      "[INFO] graphlab.deploy.map_job: Job: 'Model-Parameter-Search-Aug-14-2017-20-44-4100000-97966' scheduled.\n"
     ]
    }
   ],
   "source": [
    "params = {'user_id':'user-id', 'item_id':'game-title','target':'score','item_data': [genreSF],\n",
    "         'linear_regularization':[1e-05,1e-07,1e-09],\n",
    "         'max_iterations':50,\n",
    "         'num_factors':[8,16,32],\n",
    "         'regularization':[1e-06,1e-07,1e-08]}\n",
    "job = model_parameter_search.create((train_score,cv_score),\n",
    "                                   gl.recommender.factorization_recommender.create,\n",
    "                                   params,\n",
    "                                   evaluator = rmse_evaluator,\n",
    "                                   perform_trial_run=True,\n",
    "                                   return_model=True)"
   ]
  },
  {
   "cell_type": "code",
   "execution_count": 115,
   "metadata": {
    "collapsed": true
   },
   "outputs": [],
   "source": [
    "results = job.get_results()"
   ]
  },
  {
   "cell_type": "code",
   "execution_count": 116,
   "metadata": {
    "collapsed": false,
    "scrolled": true
   },
   "outputs": [
    {
     "data": {
      "text/plain": [
       "{'item_data': Columns:\n",
       " \tgame-title\tstr\n",
       " \tgenre_0.0\tfloat\n",
       " \tgenre_2.0\tfloat\n",
       " \tgenre_4.0\tfloat\n",
       " \tgenre_5.0\tfloat\n",
       " \tgenre_7.0\tfloat\n",
       " \tgenre_8.0\tfloat\n",
       " \tgenre_9.0\tfloat\n",
       " \tgenre_10.0\tfloat\n",
       " \tgenre_11.0\tfloat\n",
       " \tgenre_12.0\tfloat\n",
       " \tgenre_13.0\tfloat\n",
       " \tgenre_14.0\tfloat\n",
       " \tgenre_15.0\tfloat\n",
       " \tgenre_16.0\tfloat\n",
       " \tgenre_24.0\tfloat\n",
       " \tgenre_25.0\tfloat\n",
       " \tgenre_26.0\tfloat\n",
       " \tgenre_30.0\tfloat\n",
       " \tgenre_31.0\tfloat\n",
       " \tgenre_32.0\tfloat\n",
       " \tgenre_33.0\tfloat\n",
       " \n",
       " Rows: 3581\n",
       " \n",
       " Data:\n",
       " +-------------------------------+-----------+-----------+-----------+-----------+\n",
       " |           game-title          | genre_0.0 | genre_2.0 | genre_4.0 | genre_5.0 |\n",
       " +-------------------------------+-----------+-----------+-----------+-----------+\n",
       " |        10 Second Ninja        |    0.0    |    0.0    |    0.0    |    0.0    |\n",
       " |     Toy Soldiers War Chest    |    0.0    |    0.0    |    0.0    |    1.0    |\n",
       " |  Infestation Survivor Stories |    0.0    |    0.0    |    0.0    |    0.0    |\n",
       " | Nightmares from the Deep 2... |    0.0    |    0.0    |    0.0    |    0.0    |\n",
       " |  Ultimate General Gettysburg  |    0.0    |    0.0    |    0.0    |    0.0    |\n",
       " |     Unreal Tournament 2004    |    0.0    |    0.0    |    0.0    |    1.0    |\n",
       " |          Toki Tori 2+         |    0.0    |    0.0    |    0.0    |    0.0    |\n",
       " |          Life is Hard         |    0.0    |    0.0    |    0.0    |    0.0    |\n",
       " |          World of Goo         |    0.0    |    0.0    |    0.0    |    0.0    |\n",
       " |      Hollywood Visionary      |    0.0    |    0.0    |    0.0    |    0.0    |\n",
       " +-------------------------------+-----------+-----------+-----------+-----------+\n",
       " +-----------+-----------+-----------+------------+------------+------------+------------+\n",
       " | genre_7.0 | genre_8.0 | genre_9.0 | genre_10.0 | genre_11.0 | genre_12.0 | genre_13.0 |\n",
       " +-----------+-----------+-----------+------------+------------+------------+------------+\n",
       " |    0.0    |    0.0    |    0.0    |    0.0     |    0.0     |    0.0     |    0.0     |\n",
       " |    0.0    |    0.0    |    0.0    |    0.0     |    0.0     |    0.0     |    0.0     |\n",
       " |    0.0    |    0.0    |    0.0    |    0.0     |    0.0     |    0.0     |    0.0     |\n",
       " |    0.0    |    0.0    |    0.0    |    0.0     |    0.0     |    0.0     |    0.0     |\n",
       " |    0.0    |    0.0    |    0.0    |    0.0     |    1.0     |    0.0     |    1.0     |\n",
       " |    0.0    |    0.0    |    0.0    |    0.0     |    0.0     |    0.0     |    0.0     |\n",
       " |    0.0    |    1.0    |    1.0    |    0.0     |    0.0     |    0.0     |    0.0     |\n",
       " |    0.0    |    0.0    |    0.0    |    0.0     |    0.0     |    1.0     |    1.0     |\n",
       " |    0.0    |    0.0    |    1.0    |    0.0     |    0.0     |    0.0     |    0.0     |\n",
       " |    0.0    |    0.0    |    0.0    |    0.0     |    0.0     |    0.0     |    0.0     |\n",
       " +-----------+-----------+-----------+------------+------------+------------+------------+\n",
       " +------------+------------+------------+------------+------------+------------+\n",
       " | genre_14.0 | genre_15.0 | genre_16.0 | genre_24.0 | genre_25.0 | genre_26.0 |\n",
       " +------------+------------+------------+------------+------------+------------+\n",
       " |    0.0     |    0.0     |    0.0     |    0.0     |    0.0     |    0.0     |\n",
       " |    0.0     |    0.0     |    0.0     |    0.0     |    0.0     |    0.0     |\n",
       " |    0.0     |    0.0     |    0.0     |    0.0     |    0.0     |    0.0     |\n",
       " |    0.0     |    0.0     |    0.0     |    0.0     |    0.0     |    0.0     |\n",
       " |    0.0     |    1.0     |    0.0     |    0.0     |    0.0     |    0.0     |\n",
       " |    0.0     |    0.0     |    0.0     |    0.0     |    0.0     |    0.0     |\n",
       " |    0.0     |    0.0     |    0.0     |    0.0     |    0.0     |    0.0     |\n",
       " |    0.0     |    0.0     |    0.0     |    0.0     |    0.0     |    0.0     |\n",
       " |    0.0     |    0.0     |    0.0     |    0.0     |    0.0     |    0.0     |\n",
       " |    0.0     |    0.0     |    0.0     |    0.0     |    0.0     |    0.0     |\n",
       " +------------+------------+------------+------------+------------+------------+\n",
       " +------------+------------+-----+\n",
       " | genre_30.0 | genre_31.0 | ... |\n",
       " +------------+------------+-----+\n",
       " |    0.0     |    0.0     | ... |\n",
       " |    0.0     |    0.0     | ... |\n",
       " |    0.0     |    1.0     | ... |\n",
       " |    0.0     |    1.0     | ... |\n",
       " |    0.0     |    0.0     | ... |\n",
       " |    0.0     |    0.0     | ... |\n",
       " |    0.0     |    1.0     | ... |\n",
       " |    0.0     |    0.0     | ... |\n",
       " |    0.0     |    0.0     | ... |\n",
       " |    0.0     |    1.0     | ... |\n",
       " +------------+------------+-----+\n",
       " [3581 rows x 22 columns]\n",
       " Note: Only the head of the SFrame is printed.\n",
       " You can use print_rows(num_rows=m, num_columns=n) to print more rows and columns.,\n",
       " 'item_id': 'game-title',\n",
       " 'linear_regularization': 1e-05,\n",
       " 'max_iterations': 50,\n",
       " 'num_factors': 16,\n",
       " 'regularization': 1e-07,\n",
       " 'target': 'score',\n",
       " 'user_id': 'user-id'}"
      ]
     },
     "execution_count": 116,
     "metadata": {},
     "output_type": "execute_result"
    }
   ],
   "source": [
    "job.get_best_params(metric='rmse',ascending=True)"
   ]
  },
  {
   "cell_type": "markdown",
   "metadata": {},
   "source": [
    "The best parameters obtained by hyperparameter tunings are :\n",
    "- **linear_regularization** : 1e-05\n",
    "- **num_factors** : 16\n",
    "- **regularization** : 1e-07"
   ]
  },
  {
   "cell_type": "code",
   "execution_count": 118,
   "metadata": {
    "collapsed": false
   },
   "outputs": [
    {
     "data": {
      "text/html": [
       "<pre>Recsys training: model = factorization_recommender</pre>"
      ],
      "text/plain": [
       "Recsys training: model = factorization_recommender"
      ]
     },
     "metadata": {},
     "output_type": "display_data"
    }
   ],
   "source": [
    "tunedmodel = gl.recommender.factorization_recommender.create(train_score, user_id = 'user-id', item_id = 'game-title',\n",
    "                                                            target = 'score', item_data = genreSF,\n",
    "                                                           linear_regularization = 1e-05, max_iterations = 50,\n",
    "                                                           num_factors = 16, regularization = 1e-07,\n",
    "                                                           random_seed=123,verbose=False)"
   ]
  },
  {
   "cell_type": "code",
   "execution_count": 120,
   "metadata": {
    "collapsed": false
   },
   "outputs": [
    {
     "data": {
      "text/plain": [
       "0.47952367621155995"
      ]
     },
     "execution_count": 120,
     "metadata": {},
     "output_type": "execute_result"
    }
   ],
   "source": [
    "gl.evaluation.rmse(tunedmodel.predict(cv_score), cv_score['score'])"
   ]
  },
  {
   "cell_type": "markdown",
   "metadata": {},
   "source": [
    "The tuned factorisation recommender has an RMSE of 0.479 on the cross validation data."
   ]
  },
  {
   "cell_type": "markdown",
   "metadata": {},
   "source": [
    "## Model Evaluation"
   ]
  },
  {
   "cell_type": "markdown",
   "metadata": {},
   "source": [
    "We'll now compare the 3 models on the test dataset"
   ]
  },
  {
   "cell_type": "code",
   "execution_count": 121,
   "metadata": {
    "collapsed": false
   },
   "outputs": [
    {
     "name": "stdout",
     "output_type": "stream",
     "text": [
      "0.256368898906\n",
      "0.246270273001\n",
      "0.243559527707\n"
     ]
    }
   ],
   "source": [
    "print gl.evaluation.rmse(basemodel.predict(test_score), test_score['score'])\n",
    "print gl.evaluation.rmse(simplemodel.predict(test_score), test_score['score'])\n",
    "print gl.evaluation.rmse(tunedmodel.predict(test_score), test_score['score'])"
   ]
  },
  {
   "cell_type": "markdown",
   "metadata": {},
   "source": [
    "| | Popularity Recommender | Factorisation Recommender | Tuned Factorisation Recommender |\n",
    "| -- | -- | -- | -- |\n",
    "|CV RMSE | 0.479 | 0.481 | 0.479 |\n",
    "| Test RMSE | 0.256 | 0.246 | 0.243 |"
   ]
  },
  {
   "cell_type": "markdown",
   "metadata": {},
   "source": [
    "## Robustness\n",
    "To test the robustness of the final model, we'll try different splits of the data and see how the CV RMSE changes."
   ]
  },
  {
   "cell_type": "code",
   "execution_count": 122,
   "metadata": {
    "collapsed": true
   },
   "outputs": [],
   "source": [
    "import time"
   ]
  },
  {
   "cell_type": "code",
   "execution_count": 135,
   "metadata": {
    "collapsed": true
   },
   "outputs": [],
   "source": [
    "def evaluate_models(seed):\n",
    "    print seed\n",
    "    train, other = gl.recommender.util.random_split_by_user(playtimedataSF,user_id='user-id',item_id='game-title'\n",
    "                                                            ,random_seed=seed)\n",
    "    \n",
    "    train_score = create_score(train)\n",
    "    whole_score = create_score(playtimedataSF)\n",
    "    other_score=other.join(whole_score,how='left')\n",
    "    other_score.remove_column('hours')\n",
    "    \n",
    "    cv_score,test_score = gl.recommender.util.random_split_by_user(other_score,user_id='user-id',item_id='game-title'\n",
    "                                                                   ,random_seed=seed)\n",
    "    \n",
    "    basestart = time.clock()\n",
    "    basemodel = gl.recommender.popularity_recommender.create(train_score,user_id='user-id',item_id='game-title'\n",
    "                                                             ,target='score',random_seed=seed,verbose=False)\n",
    "    baseend = time.clock()\n",
    "    \n",
    "    \n",
    "    tunedstart = time.clock()\n",
    "    tunedmodel = gl.recommender.factorization_recommender.create(train_score, user_id = 'user-id', item_id = 'game-title',\n",
    "                                                            target = 'score', item_data = genreSF,\n",
    "                                                           linear_regularization = 1e-05, max_iterations = 50,\n",
    "                                                           num_factors = 16, regularization = 1e-07,\n",
    "                                                                 random_seed=seed, verbose=False)\n",
    "    tunedend = time.clock()\n",
    "    \n",
    "    \n",
    "    return [baseend-basestart,gl.evaluation.rmse(basemodel.predict(cv_score), cv_score['score'])\n",
    "            ,tunedend-tunedstart,gl.evaluation.rmse(tunedmodel.predict(cv_score), cv_score['score'])]\n",
    "    "
   ]
  },
  {
   "cell_type": "code",
   "execution_count": 136,
   "metadata": {
    "collapsed": true
   },
   "outputs": [],
   "source": [
    "def score_pipeline():\n",
    "\n",
    "    basetimes = list()\n",
    "    basescores = list()\n",
    "\n",
    "    tunedtimes = list()\n",
    "    tunedscores = list()\n",
    "    \n",
    "    for i in xrange(1,21):\n",
    "        [basetime,basescore,tunedtime,tunedscore] = evaluate_models(i)\n",
    "        basetimes.append(basetime)\n",
    "        basescores.append(basescore)\n",
    "        \n",
    "        tunedtimes.append(tunedtime)\n",
    "        tunedscores.append(tunedscore)\n",
    "        \n",
    "        \n",
    "    timesDF = pd.DataFrame({'Base':basetimes,'Tuned':tunedtimes})\n",
    "    scoresDF = pd.DataFrame({'Base':basescores,'Tuned':tunedscores})\n",
    "    \n",
    "    return timesDF, scoresDF"
   ]
  },
  {
   "cell_type": "code",
   "execution_count": 139,
   "metadata": {
    "collapsed": true
   },
   "outputs": [
    {
     "name": "stdout",
     "output_type": "stream",
     "text": [
      "1\n"
     ]
    },
    {
     "data": {
      "text/html": [
       "<pre>Recsys training: model = popularity</pre>"
      ],
      "text/plain": [
       "Recsys training: model = popularity"
      ]
     },
     "metadata": {},
     "output_type": "display_data"
    },
    {
     "data": {
      "text/html": [
       "<pre>Recsys training: model = factorization_recommender</pre>"
      ],
      "text/plain": [
       "Recsys training: model = factorization_recommender"
      ]
     },
     "metadata": {},
     "output_type": "display_data"
    },
    {
     "name": "stdout",
     "output_type": "stream",
     "text": [
      "2\n"
     ]
    },
    {
     "data": {
      "text/html": [
       "<pre>Recsys training: model = popularity</pre>"
      ],
      "text/plain": [
       "Recsys training: model = popularity"
      ]
     },
     "metadata": {},
     "output_type": "display_data"
    },
    {
     "data": {
      "text/html": [
       "<pre>Recsys training: model = factorization_recommender</pre>"
      ],
      "text/plain": [
       "Recsys training: model = factorization_recommender"
      ]
     },
     "metadata": {},
     "output_type": "display_data"
    },
    {
     "name": "stdout",
     "output_type": "stream",
     "text": [
      "3\n"
     ]
    },
    {
     "data": {
      "text/html": [
       "<pre>Recsys training: model = popularity</pre>"
      ],
      "text/plain": [
       "Recsys training: model = popularity"
      ]
     },
     "metadata": {},
     "output_type": "display_data"
    },
    {
     "data": {
      "text/html": [
       "<pre>Recsys training: model = factorization_recommender</pre>"
      ],
      "text/plain": [
       "Recsys training: model = factorization_recommender"
      ]
     },
     "metadata": {},
     "output_type": "display_data"
    },
    {
     "name": "stdout",
     "output_type": "stream",
     "text": [
      "4\n"
     ]
    },
    {
     "data": {
      "text/html": [
       "<pre>Recsys training: model = popularity</pre>"
      ],
      "text/plain": [
       "Recsys training: model = popularity"
      ]
     },
     "metadata": {},
     "output_type": "display_data"
    },
    {
     "data": {
      "text/html": [
       "<pre>Recsys training: model = factorization_recommender</pre>"
      ],
      "text/plain": [
       "Recsys training: model = factorization_recommender"
      ]
     },
     "metadata": {},
     "output_type": "display_data"
    },
    {
     "name": "stdout",
     "output_type": "stream",
     "text": [
      "5\n"
     ]
    },
    {
     "data": {
      "text/html": [
       "<pre>Recsys training: model = popularity</pre>"
      ],
      "text/plain": [
       "Recsys training: model = popularity"
      ]
     },
     "metadata": {},
     "output_type": "display_data"
    },
    {
     "data": {
      "text/html": [
       "<pre>Recsys training: model = factorization_recommender</pre>"
      ],
      "text/plain": [
       "Recsys training: model = factorization_recommender"
      ]
     },
     "metadata": {},
     "output_type": "display_data"
    },
    {
     "name": "stdout",
     "output_type": "stream",
     "text": [
      "6\n"
     ]
    },
    {
     "data": {
      "text/html": [
       "<pre>Recsys training: model = popularity</pre>"
      ],
      "text/plain": [
       "Recsys training: model = popularity"
      ]
     },
     "metadata": {},
     "output_type": "display_data"
    },
    {
     "data": {
      "text/html": [
       "<pre>Recsys training: model = factorization_recommender</pre>"
      ],
      "text/plain": [
       "Recsys training: model = factorization_recommender"
      ]
     },
     "metadata": {},
     "output_type": "display_data"
    },
    {
     "name": "stdout",
     "output_type": "stream",
     "text": [
      "7\n"
     ]
    },
    {
     "data": {
      "text/html": [
       "<pre>Recsys training: model = popularity</pre>"
      ],
      "text/plain": [
       "Recsys training: model = popularity"
      ]
     },
     "metadata": {},
     "output_type": "display_data"
    },
    {
     "data": {
      "text/html": [
       "<pre>Recsys training: model = factorization_recommender</pre>"
      ],
      "text/plain": [
       "Recsys training: model = factorization_recommender"
      ]
     },
     "metadata": {},
     "output_type": "display_data"
    },
    {
     "name": "stdout",
     "output_type": "stream",
     "text": [
      "8\n"
     ]
    },
    {
     "data": {
      "text/html": [
       "<pre>Recsys training: model = popularity</pre>"
      ],
      "text/plain": [
       "Recsys training: model = popularity"
      ]
     },
     "metadata": {},
     "output_type": "display_data"
    },
    {
     "data": {
      "text/html": [
       "<pre>Recsys training: model = factorization_recommender</pre>"
      ],
      "text/plain": [
       "Recsys training: model = factorization_recommender"
      ]
     },
     "metadata": {},
     "output_type": "display_data"
    },
    {
     "name": "stdout",
     "output_type": "stream",
     "text": [
      "9\n"
     ]
    },
    {
     "data": {
      "text/html": [
       "<pre>Recsys training: model = popularity</pre>"
      ],
      "text/plain": [
       "Recsys training: model = popularity"
      ]
     },
     "metadata": {},
     "output_type": "display_data"
    },
    {
     "data": {
      "text/html": [
       "<pre>Recsys training: model = factorization_recommender</pre>"
      ],
      "text/plain": [
       "Recsys training: model = factorization_recommender"
      ]
     },
     "metadata": {},
     "output_type": "display_data"
    },
    {
     "name": "stdout",
     "output_type": "stream",
     "text": [
      "10\n"
     ]
    },
    {
     "data": {
      "text/html": [
       "<pre>Recsys training: model = popularity</pre>"
      ],
      "text/plain": [
       "Recsys training: model = popularity"
      ]
     },
     "metadata": {},
     "output_type": "display_data"
    },
    {
     "data": {
      "text/html": [
       "<pre>Recsys training: model = factorization_recommender</pre>"
      ],
      "text/plain": [
       "Recsys training: model = factorization_recommender"
      ]
     },
     "metadata": {},
     "output_type": "display_data"
    },
    {
     "name": "stdout",
     "output_type": "stream",
     "text": [
      "11\n"
     ]
    },
    {
     "data": {
      "text/html": [
       "<pre>Recsys training: model = popularity</pre>"
      ],
      "text/plain": [
       "Recsys training: model = popularity"
      ]
     },
     "metadata": {},
     "output_type": "display_data"
    },
    {
     "data": {
      "text/html": [
       "<pre>Recsys training: model = factorization_recommender</pre>"
      ],
      "text/plain": [
       "Recsys training: model = factorization_recommender"
      ]
     },
     "metadata": {},
     "output_type": "display_data"
    },
    {
     "name": "stdout",
     "output_type": "stream",
     "text": [
      "12\n"
     ]
    },
    {
     "data": {
      "text/html": [
       "<pre>Recsys training: model = popularity</pre>"
      ],
      "text/plain": [
       "Recsys training: model = popularity"
      ]
     },
     "metadata": {},
     "output_type": "display_data"
    },
    {
     "data": {
      "text/html": [
       "<pre>Recsys training: model = factorization_recommender</pre>"
      ],
      "text/plain": [
       "Recsys training: model = factorization_recommender"
      ]
     },
     "metadata": {},
     "output_type": "display_data"
    },
    {
     "name": "stdout",
     "output_type": "stream",
     "text": [
      "13\n"
     ]
    },
    {
     "data": {
      "text/html": [
       "<pre>Recsys training: model = popularity</pre>"
      ],
      "text/plain": [
       "Recsys training: model = popularity"
      ]
     },
     "metadata": {},
     "output_type": "display_data"
    },
    {
     "data": {
      "text/html": [
       "<pre>Recsys training: model = factorization_recommender</pre>"
      ],
      "text/plain": [
       "Recsys training: model = factorization_recommender"
      ]
     },
     "metadata": {},
     "output_type": "display_data"
    },
    {
     "name": "stdout",
     "output_type": "stream",
     "text": [
      "14\n"
     ]
    },
    {
     "data": {
      "text/html": [
       "<pre>Recsys training: model = popularity</pre>"
      ],
      "text/plain": [
       "Recsys training: model = popularity"
      ]
     },
     "metadata": {},
     "output_type": "display_data"
    },
    {
     "data": {
      "text/html": [
       "<pre>Recsys training: model = factorization_recommender</pre>"
      ],
      "text/plain": [
       "Recsys training: model = factorization_recommender"
      ]
     },
     "metadata": {},
     "output_type": "display_data"
    },
    {
     "name": "stdout",
     "output_type": "stream",
     "text": [
      "15\n"
     ]
    },
    {
     "data": {
      "text/html": [
       "<pre>Recsys training: model = popularity</pre>"
      ],
      "text/plain": [
       "Recsys training: model = popularity"
      ]
     },
     "metadata": {},
     "output_type": "display_data"
    },
    {
     "data": {
      "text/html": [
       "<pre>Recsys training: model = factorization_recommender</pre>"
      ],
      "text/plain": [
       "Recsys training: model = factorization_recommender"
      ]
     },
     "metadata": {},
     "output_type": "display_data"
    },
    {
     "name": "stdout",
     "output_type": "stream",
     "text": [
      "16\n"
     ]
    },
    {
     "data": {
      "text/html": [
       "<pre>Recsys training: model = popularity</pre>"
      ],
      "text/plain": [
       "Recsys training: model = popularity"
      ]
     },
     "metadata": {},
     "output_type": "display_data"
    },
    {
     "data": {
      "text/html": [
       "<pre>Recsys training: model = factorization_recommender</pre>"
      ],
      "text/plain": [
       "Recsys training: model = factorization_recommender"
      ]
     },
     "metadata": {},
     "output_type": "display_data"
    },
    {
     "name": "stdout",
     "output_type": "stream",
     "text": [
      "17\n"
     ]
    },
    {
     "data": {
      "text/html": [
       "<pre>Recsys training: model = popularity</pre>"
      ],
      "text/plain": [
       "Recsys training: model = popularity"
      ]
     },
     "metadata": {},
     "output_type": "display_data"
    },
    {
     "data": {
      "text/html": [
       "<pre>Recsys training: model = factorization_recommender</pre>"
      ],
      "text/plain": [
       "Recsys training: model = factorization_recommender"
      ]
     },
     "metadata": {},
     "output_type": "display_data"
    },
    {
     "name": "stdout",
     "output_type": "stream",
     "text": [
      "18\n"
     ]
    },
    {
     "data": {
      "text/html": [
       "<pre>Recsys training: model = popularity</pre>"
      ],
      "text/plain": [
       "Recsys training: model = popularity"
      ]
     },
     "metadata": {},
     "output_type": "display_data"
    },
    {
     "data": {
      "text/html": [
       "<pre>Recsys training: model = factorization_recommender</pre>"
      ],
      "text/plain": [
       "Recsys training: model = factorization_recommender"
      ]
     },
     "metadata": {},
     "output_type": "display_data"
    },
    {
     "name": "stdout",
     "output_type": "stream",
     "text": [
      "19\n"
     ]
    },
    {
     "data": {
      "text/html": [
       "<pre>Recsys training: model = popularity</pre>"
      ],
      "text/plain": [
       "Recsys training: model = popularity"
      ]
     },
     "metadata": {},
     "output_type": "display_data"
    },
    {
     "data": {
      "text/html": [
       "<pre>Recsys training: model = factorization_recommender</pre>"
      ],
      "text/plain": [
       "Recsys training: model = factorization_recommender"
      ]
     },
     "metadata": {},
     "output_type": "display_data"
    },
    {
     "name": "stdout",
     "output_type": "stream",
     "text": [
      "20\n"
     ]
    },
    {
     "data": {
      "text/html": [
       "<pre>Recsys training: model = popularity</pre>"
      ],
      "text/plain": [
       "Recsys training: model = popularity"
      ]
     },
     "metadata": {},
     "output_type": "display_data"
    },
    {
     "data": {
      "text/html": [
       "<pre>Recsys training: model = factorization_recommender</pre>"
      ],
      "text/plain": [
       "Recsys training: model = factorization_recommender"
      ]
     },
     "metadata": {},
     "output_type": "display_data"
    }
   ],
   "source": [
    "timesDF, scoresDF = score_pipeline()"
   ]
  },
  {
   "cell_type": "code",
   "execution_count": 146,
   "metadata": {
    "collapsed": false
   },
   "outputs": [
    {
     "data": {
      "text/plain": [
       "<matplotlib.axes._subplots.AxesSubplot at 0x7ff37d5c7a50>"
      ]
     },
     "execution_count": 146,
     "metadata": {},
     "output_type": "execute_result"
    },
    {
     "data": {
      "image/png": "[encoded data removed]",
      "text/plain": [
       "<matplotlib.figure.Figure at 0x7ff386741810>"
      ]
     },
     "metadata": {},
     "output_type": "display_data"
    }
   ],
   "source": [
    "sns.boxplot(scoresDF)"
   ]
  },
  {
   "cell_type": "code",
   "execution_count": 141,
   "metadata": {
    "collapsed": false
   },
   "outputs": [
    {
     "data": {
      "text/plain": [
       "<matplotlib.axes._subplots.AxesSubplot at 0x7ff3980594d0>"
      ]
     },
     "execution_count": 141,
     "metadata": {},
     "output_type": "execute_result"
    },
    {
     "data": {
      "image/png": "[encoded data removed]",
      "text/plain": [
       "<matplotlib.figure.Figure at 0x7ff39806d410>"
      ]
     },
     "metadata": {},
     "output_type": "display_data"
    }
   ],
   "source": [
    "sns.boxplot(timesDF)"
   ]
  },
  {
   "cell_type": "code",
   "execution_count": 148,
   "metadata": {
    "collapsed": false
   },
   "outputs": [
    {
     "data": {
      "text/plain": [
       "<matplotlib.axes._subplots.AxesSubplot at 0x7ff386677610>"
      ]
     },
     "execution_count": 148,
     "metadata": {},
     "output_type": "execute_result"
    },
    {
     "data": {
      "image/png": "[encoded data removed]",
      "text/plain": [
       "<matplotlib.figure.Figure at 0x7ff386642990>"
      ]
     },
     "metadata": {},
     "output_type": "display_data"
    }
   ],
   "source": [
    "sns.boxplot(timesDF.Base)"
   ]
  },
  {
   "cell_type": "code",
   "execution_count": 149,
   "metadata": {
    "collapsed": false
   },
   "outputs": [
    {
     "data": {
      "text/plain": [
       "<matplotlib.axes._subplots.AxesSubplot at 0x7ff38655b290>"
      ]
     },
     "execution_count": 149,
     "metadata": {},
     "output_type": "execute_result"
    },
    {
     "data": {
      "image/png": "[encoded data removed]",
      "text/plain": [
       "<matplotlib.figure.Figure at 0x7ff386741550>"
      ]
     },
     "metadata": {},
     "output_type": "display_data"
    }
   ],
   "source": [
    "sns.boxplot(timesDF.Tuned)"
   ]
  },
  {
   "cell_type": "code",
   "execution_count": 145,
   "metadata": {
    "collapsed": false
   },
   "outputs": [
    {
     "data": {
      "text/plain": [
       "0.6497844499999246"
      ]
     },
     "execution_count": 145,
     "metadata": {},
     "output_type": "execute_result"
    }
   ],
   "source": [
    "timesDF.Base.mean()"
   ]
  },
  {
   "cell_type": "code",
   "execution_count": 147,
   "metadata": {
    "collapsed": false
   },
   "outputs": [
    {
     "data": {
      "text/plain": [
       "84.56693535000002"
      ]
     },
     "execution_count": 147,
     "metadata": {},
     "output_type": "execute_result"
    }
   ],
   "source": [
    "timesDF.Tuned.mean()"
   ]
  },
  {
   "cell_type": "code",
   "execution_count": 150,
   "metadata": {
    "collapsed": true
   },
   "outputs": [],
   "source": [
    "pickle.dump(timesDF,open(\"timesDF.p\",\"wb\"))\n",
    "pickle.dump(timesDF,open(\"scoresDF.p\",\"wb\"))"
   ]
  },
  {
   "cell_type": "markdown",
   "metadata": {},
   "source": [
    "## Conclusion\n",
    "While both models have comparable RMSE values, there is a huge difference between the times taken for the 2 models.\n",
    "Therefore, the basic popularity recommender should be used instead of the tuned factorisation recommender."
   ]
  },
  {
   "cell_type": "markdown",
   "metadata": {},
   "source": [
    "## Reflection\n",
    "\n",
    "To recap the process:\n",
    "1. Obtain data from Kaggle\n",
    "2. Process the data\n",
    "    1. Remove duplicate rows\n",
    "    2. Add genre information (Create the genre information table)\n",
    "    3. Remove the 19 games which weren’t in the IGDB database\n",
    "3. Create scoring function\n",
    "4. Create benchmark popularity recommender model\n",
    "5. Create suggested factorisation recommender model\n",
    "6. Perform hyper-parameter tuning to get tuned factorisation recommender.\n",
    "7. Evaluate the 3 models on the test dataset\n",
    "8. Check the robustness of the models and suggest the final model\n",
    "\n",
    "Defining the scoring function (and implementing it correctly) was the main issue due to the various joins and merges of the dataset. The 12 duplicate rows were one of the biggest roadblocks in this project. I only realised this issue when I was implementing the scoring function and the rows weren’t matching (as detailed in the appendix of the Jupyter notebook).\n",
    "\n",
    "Checking the robustness of the 2 models via the pipeline was an interesting job. It showed me that while the 2 models had roughly the equal performances, the time taken to train the models made the basic popularity recommender a clear cut winnre"
   ]
  },
  {
   "cell_type": "markdown",
   "metadata": {},
   "source": [
    "## Improvements\n",
    "- Define the scoring function to be a weighted product of both the scores. This could be used by companies to decide what factor they want to focus more on. For example, people who have a high normalised score ie. they are heavy players could be targeted with micro-transaction type games.\n",
    "\n",
    "- More data! This small dataset had limited interactions. Steam could create a better recommendation engine by using their own data.\n"
   ]
  },
  {
   "cell_type": "markdown",
   "metadata": {},
   "source": [
    "## Appendix -  Debugging issue with merge and multiple player-game data¶"
   ]
  },
  {
   "cell_type": "markdown",
   "metadata": {},
   "source": [
    "**Discovery** - While creating the scoring function, it was observed that the dataset created after an inner merge has more rows than the component datasets.\n",
    "The personal-ratio dataset had 69276 interactions and the playtime-distribution dataset also had 69276 interactions. It was expected that the merged dataset would also have 69276 rows. But it was observed that the merged dataset had 69300 rows. This [SO question](https://stackoverflow.com/questions/41580249/pandas-merged-inner-join-data-frame-has-more-rows-than-the-original-ones) alerted me to the fact that there might be duplicates in the dataset. I observed that certain player-game combinations had 2 playtime entries instead of just 1 (as I had assumed). These duplicate rows were resulting in the issue observed above.\n",
    "\n",
    "For example, the user ID 71411882 and the game 'Grand Theft Auto III' had 2 entries. This issue was present in the raw data itself."
   ]
  }
 ],
 "metadata": {
  "kernelspec": {
   "display_name": "Python [gl-env]",
   "language": "python",
   "name": "Python [gl-env]"
  },
  "language_info": {
   "codemirror_mode": {
    "name": "ipython",
    "version": 2
   },
   "file_extension": ".py",
   "mimetype": "text/x-python",
   "name": "python",
   "nbconvert_exporter": "python",
   "pygments_lexer": "ipython2",
   "version": "2.7.11"
  }
 },
 "nbformat": 4,
 "nbformat_minor": 0
}
